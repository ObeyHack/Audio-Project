{
 "cells": [
  {
   "metadata": {},
   "cell_type": "markdown",
   "source": "# import dataset",
   "id": "fc54dcfd26dad28c"
  },
  {
   "metadata": {},
   "cell_type": "markdown",
   "source": "### Load dataset",
   "id": "a9647372f8482693"
  },
  {
   "cell_type": "code",
   "id": "initial_id",
   "metadata": {
    "collapsed": true,
    "jupyter": {
     "is_executing": true
    },
    "ExecuteTime": {
     "start_time": "2024-08-05T12:01:16.351311Z"
    }
   },
   "source": [
    "from datasets import load_dataset\n",
    "#dataset = load_dataset(\"SLPRL-HUJI/HebDB\", \"YV_pre\", cache_dir='datasets')\n",
    "\n",
    "dataset = load_dataset(\"SLPRL-HUJI/HebDB\", \"YV_pre\", streaming=False, cache_dir='datasets')\n",
    "dataset = dataset['train']"
   ],
   "outputs": [
    {
     "data": {
      "text/plain": [
       "Resolving data files:   0%|          | 0/608 [00:00<?, ?it/s]"
      ],
      "application/vnd.jupyter.widget-view+json": {
       "version_major": 2,
       "version_minor": 0,
       "model_id": "2871b301aa5b4d67a7fcf64d957153e9"
      }
     },
     "metadata": {},
     "output_type": "display_data"
    },
    {
     "data": {
      "text/plain": [
       "Downloading data:   0%|          | 0.00/1.06G [00:00<?, ?B/s]"
      ],
      "application/vnd.jupyter.widget-view+json": {
       "version_major": 2,
       "version_minor": 0,
       "model_id": "2af51500165745289836ba58d6447af2"
      }
     },
     "metadata": {},
     "output_type": "display_data"
    },
    {
     "name": "stderr",
     "output_type": "stream",
     "text": [
      "Exception ignored in: <bound method IPythonKernel._clean_thread_parent_frames of <ipykernel.ipkernel.IPythonKernel object at 0x00000218270E1A80>>\n",
      "Traceback (most recent call last):\n",
      "  File \"D:\\Documents\\GitHub\\Audio-Project\\.venv\\lib\\site-packages\\ipykernel\\ipkernel.py\", line 788, in _clean_thread_parent_frames\n",
      "    if phase != \"start\":\n",
      "KeyboardInterrupt: \n",
      "\n",
      "KeyboardInterrupt\n",
      "\n"
     ]
    }
   ],
   "execution_count": null
  },
  {
   "metadata": {},
   "cell_type": "markdown",
   "source": "### Save dataset",
   "id": "2b1871f1d146e962"
  },
  {
   "metadata": {
    "ExecuteTime": {
     "end_time": "2024-08-05T10:37:42.612778Z",
     "start_time": "2024-08-05T10:33:26.935713Z"
    }
   },
   "cell_type": "code",
   "source": "dataset.save_to_disk(\"data\")",
   "id": "fde953b4a3625d27",
   "outputs": [
    {
     "data": {
      "text/plain": [
       "Saving the dataset (0/31 shards):   0%|          | 0/45472 [00:00<?, ? examples/s]"
      ],
      "application/vnd.jupyter.widget-view+json": {
       "version_major": 2,
       "version_minor": 0,
       "model_id": "d8d9a9f3d45e48b2bd2b07abd836a9ea"
      }
     },
     "metadata": {},
     "output_type": "display_data"
    }
   ],
   "execution_count": 25
  },
  {
   "metadata": {},
   "cell_type": "markdown",
   "source": "### Load dataset from disk",
   "id": "f21c4feed9b7a6d7"
  },
  {
   "metadata": {
    "ExecuteTime": {
     "end_time": "2024-08-05T12:06:01.929857Z",
     "start_time": "2024-08-05T12:05:34.275655Z"
    }
   },
   "cell_type": "code",
   "source": [
    "from datasets import load_from_disk\n",
    "dataset = load_from_disk(\"data\")"
   ],
   "id": "5968be0022eb7248",
   "outputs": [
    {
     "data": {
      "text/plain": [
       "Loading dataset from disk:   0%|          | 0/31 [00:00<?, ?it/s]"
      ],
      "application/vnd.jupyter.widget-view+json": {
       "version_major": 2,
       "version_minor": 0,
       "model_id": "6aa3e18b3955466498bb77c4294de7ee"
      }
     },
     "metadata": {},
     "output_type": "display_data"
    }
   ],
   "execution_count": 6
  },
  {
   "metadata": {},
   "cell_type": "markdown",
   "source": "### Take a look at the dataset",
   "id": "408d8e045b3df00c"
  },
  {
   "metadata": {
    "ExecuteTime": {
     "end_time": "2024-08-05T12:06:03.706272Z",
     "start_time": "2024-08-05T12:06:03.688273Z"
    }
   },
   "cell_type": "code",
   "source": "dataset.features",
   "id": "56d17a0fccd11723",
   "outputs": [
    {
     "data": {
      "text/plain": [
       "{'fname': Value(dtype='string', id=None),\n",
       " 'audio': Audio(sampling_rate=None, mono=True, decode=True, id=None),\n",
       " 'n_samples': Value(dtype='int64', id=None),\n",
       " 'text': Value(dtype='string', id=None),\n",
       " 'normalized_text': Value(dtype='string', id=None),\n",
       " 'score': Value(dtype='float64', id=None),\n",
       " 'raw': {'end_sec': Value(dtype='float64', id=None),\n",
       "  'fname': Value(dtype='string', id=None),\n",
       "  'start_sec': Value(dtype='float64', id=None)},\n",
       " 'is_raw': Value(dtype='bool', id=None),\n",
       " 'source': Value(dtype='string', id=None)}"
      ]
     },
     "execution_count": 7,
     "metadata": {},
     "output_type": "execute_result"
    }
   ],
   "execution_count": 7
  },
  {
   "metadata": {
    "ExecuteTime": {
     "end_time": "2024-08-05T08:15:13.689722Z",
     "start_time": "2024-08-05T08:15:13.658720Z"
    }
   },
   "cell_type": "code",
   "source": "print(dataset.take(1))",
   "id": "89a2d1dc5ecd95ab",
   "outputs": [
    {
     "name": "stdout",
     "output_type": "stream",
     "text": [
      "Dataset({\n",
      "    features: ['fname', 'audio', 'n_samples', 'text', 'normalized_text', 'score', 'raw', 'is_raw', 'source'],\n",
      "    num_rows: 1\n",
      "})\n"
     ]
    }
   ],
   "execution_count": 3
  },
  {
   "metadata": {
    "ExecuteTime": {
     "end_time": "2024-08-05T08:15:23.471411Z",
     "start_time": "2024-08-05T08:15:14.757455Z"
    }
   },
   "cell_type": "code",
   "source": "dataset[42000]",
   "id": "689bc97c56000163",
   "outputs": [
    {
     "data": {
      "text/plain": [
       "{'fname': '11352318_end-index-1201.wav',\n",
       " 'audio': {'path': '92fffdc8b2f0c982d8a055323fea5c02d8f3a8be13e2dff5d9c28febea68e01f',\n",
       "  'array': array([-0.08934021, -0.08877563, -0.08435059, ..., -0.00022888,\n",
       "          0.        ,  0.00033569]),\n",
       "  'sampling_rate': 16000},\n",
       " 'n_samples': 139200,\n",
       " 'text': 'ממש. לא, אני כמעט ולא זוכר, כמעט ולא זוכר, אלה היו כבר בגילאים כאלה, שלי לא היה כל קשר',\n",
       " 'normalized_text': 'ממש לא אני כמעט ולא זוכר כמעט ולא זוכר אלה היו כבר בגילאימ כאלה שלי לא היה כל קשר',\n",
       " 'score': 0.2206652193332452,\n",
       " 'raw': {'end_sec': None, 'fname': None, 'start_sec': None},\n",
       " 'is_raw': False,\n",
       " 'source': 'Yad_vashem'}"
      ]
     },
     "execution_count": 4,
     "metadata": {},
     "output_type": "execute_result"
    }
   ],
   "execution_count": 4
  },
  {
   "metadata": {},
   "cell_type": "markdown",
   "source": [
    "---\n",
    "# Preprocessing"
   ],
   "id": "4988dde7d66a8d42"
  },
  {
   "metadata": {},
   "cell_type": "code",
   "outputs": [],
   "execution_count": null,
   "source": "### Remove empty rows",
   "id": "565c52f89234b0e5"
  },
  {
   "metadata": {},
   "cell_type": "code",
   "outputs": [],
   "execution_count": null,
   "source": [
    "def is_text(text):\n",
    "    # Filter out examples without text (text is empty or None)\n",
    "    return text is not None and len(text) > 0\n",
    "\n",
    "dataset = dataset.filter(is_text, input_columns=\"normalized_text\")"
   ],
   "id": "b361ad4be021c485"
  },
  {
   "metadata": {},
   "cell_type": "code",
   "outputs": [],
   "execution_count": null,
   "source": [
    "def is_audio(audio):\n",
    "    # Filter out examples without audio (audio is empty or None)\n",
    "    return audio[\"array\"] is not None and len(audio[\"array\"]) > 0\n",
    "\n",
    "dataset = dataset.filter(is_audio, input_columns=\"audio\")"
   ],
   "id": "771b5702e211d5b6"
  },
  {
   "metadata": {},
   "cell_type": "markdown",
   "source": "### Tokenization",
   "id": "b87351aef8275a2f"
  },
  {
   "metadata": {
    "ExecuteTime": {
     "end_time": "2024-08-05T11:53:02.916026Z",
     "start_time": "2024-08-05T11:53:00.281777Z"
    }
   },
   "cell_type": "code",
   "source": [
    "from transformers import AutoTokenizer\n",
    "tokenizer = AutoTokenizer.from_pretrained('distilbert-base-multilingual-cased')"
   ],
   "id": "f4a42de1a84e0a3e",
   "outputs": [],
   "execution_count": 7
  },
  {
   "metadata": {
    "ExecuteTime": {
     "end_time": "2024-08-05T11:53:21.117043Z",
     "start_time": "2024-08-05T11:53:20.845022Z"
    }
   },
   "cell_type": "code",
   "source": [
    "labels = tokenizer(dataset[0][\"normalized_text\"]).input_ids\n",
    "decoded_str = tokenizer.decode(labels, skip_special_tokens=True)\n",
    "print(dataset[0][\"normalized_text\"])\n",
    "print(decoded_str)"
   ],
   "id": "f324def337189927",
   "outputs": [
    {
     "ename": "NotImplementedError",
     "evalue": "Subclasses of Dataset should implement __getitem__.",
     "output_type": "error",
     "traceback": [
      "\u001B[1;31m---------------------------------------------------------------------------\u001B[0m",
      "\u001B[1;31mNotImplementedError\u001B[0m                       Traceback (most recent call last)",
      "Cell \u001B[1;32mIn[8], line 1\u001B[0m\n\u001B[1;32m----> 1\u001B[0m labels \u001B[38;5;241m=\u001B[39m tokenizer(\u001B[43mdataset\u001B[49m\u001B[43m[\u001B[49m\u001B[38;5;241;43m0\u001B[39;49m\u001B[43m]\u001B[49m[\u001B[38;5;124m\"\u001B[39m\u001B[38;5;124mnormalized_text\u001B[39m\u001B[38;5;124m\"\u001B[39m])\u001B[38;5;241m.\u001B[39minput_ids\n\u001B[0;32m      2\u001B[0m decoded_str \u001B[38;5;241m=\u001B[39m tokenizer\u001B[38;5;241m.\u001B[39mdecode(labels, skip_special_tokens\u001B[38;5;241m=\u001B[39m\u001B[38;5;28;01mTrue\u001B[39;00m)\n\u001B[0;32m      3\u001B[0m \u001B[38;5;28mprint\u001B[39m(dataset[\u001B[38;5;241m0\u001B[39m][\u001B[38;5;124m\"\u001B[39m\u001B[38;5;124mnormalized_text\u001B[39m\u001B[38;5;124m\"\u001B[39m])\n",
      "File \u001B[1;32mD:\\Documents\\GitHub\\Audio-Project\\.venv\\lib\\site-packages\\torch\\utils\\data\\dataset.py:63\u001B[0m, in \u001B[0;36mDataset.__getitem__\u001B[1;34m(self, index)\u001B[0m\n\u001B[0;32m     62\u001B[0m \u001B[38;5;28;01mdef\u001B[39;00m \u001B[38;5;21m__getitem__\u001B[39m(\u001B[38;5;28mself\u001B[39m, index) \u001B[38;5;241m-\u001B[39m\u001B[38;5;241m>\u001B[39m T_co:\n\u001B[1;32m---> 63\u001B[0m     \u001B[38;5;28;01mraise\u001B[39;00m \u001B[38;5;167;01mNotImplementedError\u001B[39;00m(\u001B[38;5;124m\"\u001B[39m\u001B[38;5;124mSubclasses of Dataset should implement __getitem__.\u001B[39m\u001B[38;5;124m\"\u001B[39m)\n",
      "\u001B[1;31mNotImplementedError\u001B[0m: Subclasses of Dataset should implement __getitem__."
     ]
    }
   ],
   "execution_count": 8
  },
  {
   "metadata": {
    "ExecuteTime": {
     "end_time": "2024-08-05T11:53:29.051068Z",
     "start_time": "2024-08-05T11:53:29.042069Z"
    }
   },
   "cell_type": "code",
   "source": [
    "def tokenization(examples):\n",
    "    return tokenizer(examples[\"normalized_text\"], padding=\"max_length\")"
   ],
   "id": "ddfb24eb6d603930",
   "outputs": [],
   "execution_count": 11
  },
  {
   "metadata": {
    "ExecuteTime": {
     "end_time": "2024-08-05T11:53:36.485794Z",
     "start_time": "2024-08-05T11:53:36.476795Z"
    }
   },
   "cell_type": "code",
   "source": "dataset_pre = dataset.map(tokenization, batched=True)",
   "id": "9804ad60d8c5ba9d",
   "outputs": [],
   "execution_count": 17
  },
  {
   "metadata": {
    "ExecuteTime": {
     "end_time": "2024-08-05T11:53:38.658723Z",
     "start_time": "2024-08-05T11:53:38.624723Z"
    }
   },
   "cell_type": "code",
   "source": [
    "for i in range(100):\n",
    "    print(len(dataset_pre[i][\"input_ids\"]))"
   ],
   "id": "9ae5ea5cf1703e3d",
   "outputs": [
    {
     "ename": "NotImplementedError",
     "evalue": "Subclasses of Dataset should implement __getitem__.",
     "output_type": "error",
     "traceback": [
      "\u001B[1;31m---------------------------------------------------------------------------\u001B[0m",
      "\u001B[1;31mNotImplementedError\u001B[0m                       Traceback (most recent call last)",
      "Cell \u001B[1;32mIn[18], line 2\u001B[0m\n\u001B[0;32m      1\u001B[0m \u001B[38;5;28;01mfor\u001B[39;00m i \u001B[38;5;129;01min\u001B[39;00m \u001B[38;5;28mrange\u001B[39m(\u001B[38;5;241m100\u001B[39m):\n\u001B[1;32m----> 2\u001B[0m     \u001B[38;5;28mprint\u001B[39m(\u001B[38;5;28mlen\u001B[39m(\u001B[43mdataset_pre\u001B[49m\u001B[43m[\u001B[49m\u001B[43mi\u001B[49m\u001B[43m]\u001B[49m[\u001B[38;5;124m\"\u001B[39m\u001B[38;5;124minput_ids\u001B[39m\u001B[38;5;124m\"\u001B[39m]))\n",
      "File \u001B[1;32mD:\\Documents\\GitHub\\Audio-Project\\.venv\\lib\\site-packages\\torch\\utils\\data\\dataset.py:63\u001B[0m, in \u001B[0;36mDataset.__getitem__\u001B[1;34m(self, index)\u001B[0m\n\u001B[0;32m     62\u001B[0m \u001B[38;5;28;01mdef\u001B[39;00m \u001B[38;5;21m__getitem__\u001B[39m(\u001B[38;5;28mself\u001B[39m, index) \u001B[38;5;241m-\u001B[39m\u001B[38;5;241m>\u001B[39m T_co:\n\u001B[1;32m---> 63\u001B[0m     \u001B[38;5;28;01mraise\u001B[39;00m \u001B[38;5;167;01mNotImplementedError\u001B[39;00m(\u001B[38;5;124m\"\u001B[39m\u001B[38;5;124mSubclasses of Dataset should implement __getitem__.\u001B[39m\u001B[38;5;124m\"\u001B[39m)\n",
      "\u001B[1;31mNotImplementedError\u001B[0m: Subclasses of Dataset should implement __getitem__."
     ]
    }
   ],
   "execution_count": 18
  },
  {
   "metadata": {},
   "cell_type": "markdown",
   "source": "### MFCC",
   "id": "440d734d33de632d"
  },
  {
   "metadata": {
    "ExecuteTime": {
     "end_time": "2024-08-05T12:08:01.278117Z",
     "start_time": "2024-08-05T12:07:59.353745Z"
    }
   },
   "cell_type": "code",
   "source": [
    "# listen to the audio\n",
    "import IPython.display as ipd\n",
    "i = 998\n",
    "ipd.Audio(dataset[i][\"audio\"][\"array\"], rate=dataset[i][\"audio\"][\"sampling_rate\"])"
   ],
   "id": "7a2c2654550d0c9",
   "outputs": [
    {
     "data": {
      "text/plain": [
       "<IPython.lib.display.Audio object>"
      ],
      "text/html": [
       "\n",
       "                <audio  controls=\"controls\" >\n",
       "                    <source src=\"data:audio/wav;base64,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\" type=\"audio/wav\" />\n",
       "                    Your browser does not support the audio element.\n",
       "                </audio>\n",
       "              "
      ]
     },
     "execution_count": 12,
     "metadata": {},
     "output_type": "execute_result"
    }
   ],
   "execution_count": 12
  },
  {
   "metadata": {
    "ExecuteTime": {
     "end_time": "2024-08-05T12:08:07.077444Z",
     "start_time": "2024-08-05T12:08:07.002444Z"
    }
   },
   "cell_type": "code",
   "source": [
    "from datasets import Audio\n",
    "dataset = dataset.cast_column(\"audio\", Audio(sampling_rate=16000))"
   ],
   "id": "b42101a17e1cf281",
   "outputs": [],
   "execution_count": 14
  },
  {
   "metadata": {
    "ExecuteTime": {
     "end_time": "2024-08-05T12:08:33.109780Z",
     "start_time": "2024-08-05T12:08:32.922777Z"
    }
   },
   "cell_type": "code",
   "source": [
    "from transformers import WhisperFeatureExtractor\n",
    "feature_extractor = WhisperFeatureExtractor.from_pretrained(\"openai/whisper-small\")"
   ],
   "id": "8f738afd64c88a31",
   "outputs": [],
   "execution_count": 19
  },
  {
   "metadata": {
    "ExecuteTime": {
     "end_time": "2024-08-05T12:09:35.847836Z",
     "start_time": "2024-08-05T12:09:35.829835Z"
    }
   },
   "cell_type": "code",
   "source": [
    "def feature_extraction(example, feature_extractor):\n",
    "    audio = example[\"audio\"]\n",
    "    example[\"mfcc\"] = feature_extractor(audio[\"array\"], sampling_rate=audio[\"sampling_rate\"]).input_features[0]\n",
    "    return example"
   ],
   "id": "2a33798771bcc3d3",
   "outputs": [],
   "execution_count": 26
  },
  {
   "metadata": {
    "ExecuteTime": {
     "end_time": "2024-08-05T12:09:36.634836Z",
     "start_time": "2024-08-05T12:09:36.593836Z"
    }
   },
   "cell_type": "code",
   "source": [
    "dataset_pre2 = dataset.take(30).map(feature_extraction, fn_kwargs={\"feature_extractor\": feature_extractor},\n",
    "                            batched=False)"
   ],
   "id": "23bef53e6ecca59e",
   "outputs": [],
   "execution_count": 27
  },
  {
   "metadata": {
    "ExecuteTime": {
     "end_time": "2024-08-05T12:09:37.829856Z",
     "start_time": "2024-08-05T12:09:37.658835Z"
    }
   },
   "cell_type": "code",
   "source": [
    "dataset_pre2 = dataset_pre2.with_format(\"torch\")\n",
    "for i in range(30):\n",
    "    print(dataset_pre2[i][\"mfcc\"].shape)"
   ],
   "id": "3be8a99a8ec28d5e",
   "outputs": [
    {
     "name": "stdout",
     "output_type": "stream",
     "text": [
      "torch.Size([80, 3000])\n",
      "torch.Size([80, 3000])\n",
      "torch.Size([80, 3000])\n",
      "torch.Size([80, 3000])\n",
      "torch.Size([80, 3000])\n",
      "torch.Size([80, 3000])\n",
      "torch.Size([80, 3000])\n",
      "torch.Size([80, 3000])\n",
      "torch.Size([80, 3000])\n",
      "torch.Size([80, 3000])\n",
      "torch.Size([80, 3000])\n",
      "torch.Size([80, 3000])\n",
      "torch.Size([80, 3000])\n",
      "torch.Size([80, 3000])\n",
      "torch.Size([80, 3000])\n",
      "torch.Size([80, 3000])\n",
      "torch.Size([80, 3000])\n",
      "torch.Size([80, 3000])\n",
      "torch.Size([80, 3000])\n",
      "torch.Size([80, 3000])\n",
      "torch.Size([80, 3000])\n",
      "torch.Size([80, 3000])\n",
      "torch.Size([80, 3000])\n",
      "torch.Size([80, 3000])\n",
      "torch.Size([80, 3000])\n",
      "torch.Size([80, 3000])\n",
      "torch.Size([80, 3000])\n",
      "torch.Size([80, 3000])\n",
      "torch.Size([80, 3000])\n",
      "torch.Size([80, 3000])\n"
     ]
    }
   ],
   "execution_count": 28
  },
  {
   "metadata": {
    "ExecuteTime": {
     "end_time": "2024-08-05T12:09:40.662837Z",
     "start_time": "2024-08-05T12:09:40.655841Z"
    }
   },
   "cell_type": "code",
   "source": "dataset_pre2.features",
   "id": "7b7d2a95ad117bf8",
   "outputs": [
    {
     "data": {
      "text/plain": [
       "{'fname': Value(dtype='string', id=None),\n",
       " 'audio': Audio(sampling_rate=16000, mono=True, decode=True, id=None),\n",
       " 'n_samples': Value(dtype='int64', id=None),\n",
       " 'text': Value(dtype='string', id=None),\n",
       " 'normalized_text': Value(dtype='string', id=None),\n",
       " 'score': Value(dtype='float64', id=None),\n",
       " 'raw': {'end_sec': Value(dtype='float64', id=None),\n",
       "  'fname': Value(dtype='string', id=None),\n",
       "  'start_sec': Value(dtype='float64', id=None)},\n",
       " 'is_raw': Value(dtype='bool', id=None),\n",
       " 'source': Value(dtype='string', id=None),\n",
       " 'mfcc': Sequence(feature=Sequence(feature=Value(dtype='float32', id=None), length=-1, id=None), length=-1, id=None)}"
      ]
     },
     "execution_count": 29,
     "metadata": {},
     "output_type": "execute_result"
    }
   ],
   "execution_count": 29
  },
  {
   "metadata": {},
   "cell_type": "markdown",
   "source": "### Remove columns",
   "id": "1bdd64cafdca8515"
  },
  {
   "metadata": {
    "ExecuteTime": {
     "end_time": "2024-08-05T12:10:19.453945Z",
     "start_time": "2024-08-05T12:10:19.431946Z"
    }
   },
   "cell_type": "code",
   "source": [
    "dataset_pre3 = dataset_pre2.remove_columns([\"audio\", \"fname\", \"text\", \"score\", \"raw\", \"is_raw\", \"source\", \"n_samples\"])\n",
    "dataset_pre3.features"
   ],
   "id": "538b79b40ed0c0e",
   "outputs": [
    {
     "data": {
      "text/plain": [
       "{'normalized_text': Value(dtype='string', id=None),\n",
       " 'mfcc': Sequence(feature=Sequence(feature=Value(dtype='float32', id=None), length=-1, id=None), length=-1, id=None)}"
      ]
     },
     "execution_count": 32,
     "metadata": {},
     "output_type": "execute_result"
    }
   ],
   "execution_count": 32
  },
  {
   "metadata": {},
   "cell_type": "markdown",
   "source": "### torch",
   "id": "1c404497761d0719"
  },
  {
   "metadata": {},
   "cell_type": "code",
   "outputs": [],
   "execution_count": null,
   "source": "dataset_pre2 = dataset_pre2.with_format(\"torch\")",
   "id": "3449bf63b5e9c248"
  },
  {
   "metadata": {},
   "cell_type": "markdown",
   "source": "### plot",
   "id": "ce3ad15a23917dc1"
  },
  {
   "metadata": {
    "ExecuteTime": {
     "end_time": "2024-08-05T06:54:11.059517Z",
     "start_time": "2024-08-05T06:54:10.791533Z"
    }
   },
   "cell_type": "code",
   "source": [
    "#plot the mfcc\n",
    "import matplotlib.pyplot as plt\n",
    "import numpy as np\n",
    "\n",
    "mfcc = dataset_pre2[0][\"input_features\"]\n",
    "plt.figure(figsize=(10, 4))\n",
    "plt.imshow(mfcc, cmap='hot', interpolation='nearest')\n",
    "plt.show()"
   ],
   "id": "8cde68047f34b7d0",
   "outputs": [
    {
     "data": {
      "text/plain": [
       "<Figure size 1000x400 with 1 Axes>"
      ],
      "image/png": "[encoded data removed]"
     },
     "metadata": {},
     "output_type": "display_data"
    }
   ],
   "execution_count": 41
  },
  {
   "metadata": {},
   "cell_type": "markdown",
   "source": "### Format",
   "id": "f235542d7042d179"
  },
  {
   "metadata": {
    "ExecuteTime": {
     "end_time": "2024-08-05T07:23:25.748302Z",
     "start_time": "2024-08-05T07:23:25.687304Z"
    }
   },
   "cell_type": "code",
   "source": "dataset_pre = dataset_pre.with_format(\"torch\")",
   "id": "9e6eede1a14a9846",
   "outputs": [],
   "execution_count": 56
  },
  {
   "metadata": {
    "ExecuteTime": {
     "end_time": "2024-08-05T07:23:26.736298Z",
     "start_time": "2024-08-05T07:23:26.710302Z"
    }
   },
   "cell_type": "code",
   "source": "dataset_pre.features",
   "id": "14a40efdacdbd6cf",
   "outputs": [
    {
     "data": {
      "text/plain": [
       "{'fname': Value(dtype='string', id=None),\n",
       " 'audio': Audio(sampling_rate=None, mono=True, decode=True, id=None),\n",
       " 'n_samples': Value(dtype='int64', id=None),\n",
       " 'text': Value(dtype='string', id=None),\n",
       " 'normalized_text': Value(dtype='string', id=None),\n",
       " 'score': Value(dtype='float64', id=None),\n",
       " 'raw': {'end_sec': Value(dtype='float64', id=None),\n",
       "  'fname': Value(dtype='string', id=None),\n",
       "  'start_sec': Value(dtype='float64', id=None)},\n",
       " 'is_raw': Value(dtype='bool', id=None),\n",
       " 'source': Value(dtype='string', id=None),\n",
       " 'input_ids': Sequence(feature=Value(dtype='int32', id=None), length=-1, id=None),\n",
       " 'attention_mask': Sequence(feature=Value(dtype='int8', id=None), length=-1, id=None)}"
      ]
     },
     "execution_count": 57,
     "metadata": {},
     "output_type": "execute_result"
    }
   ],
   "execution_count": 57
  },
  {
   "metadata": {},
   "cell_type": "markdown",
   "source": [
    "---\n",
    "# StreamDataset"
   ],
   "id": "b69770a8517b0cbb"
  },
  {
   "metadata": {
    "ExecuteTime": {
     "end_time": "2024-08-05T08:20:33.745225Z",
     "start_time": "2024-08-05T08:20:33.722698Z"
    }
   },
   "cell_type": "code",
   "source": [
    "import os\n",
    "\n",
    "input_dir = r\"\"\"datasets\\SLPRL-HUJI___heb_db\\YV_pre\\0.0.0\\cb51d1ccacba7cb1b85483f29495cfc824a71148\"\"\"\n",
    "arrow_files = [os.path.join(root, f) for root, _, filenames in os.walk(input_dir) for f in filenames if f.endswith(\".arrow\")]"
   ],
   "id": "5308fe64b59e0ae1",
   "outputs": [],
   "execution_count": 12
  },
  {
   "metadata": {
    "ExecuteTime": {
     "end_time": "2024-08-05T08:20:46.100847Z",
     "start_time": "2024-08-05T08:20:34.615747Z"
    }
   },
   "cell_type": "code",
   "source": [
    "from datasets import Dataset\n",
    "\n",
    "reader = Dataset.from_file(arrow_files[0])"
   ],
   "id": "d1a20c8f6744bbf2",
   "outputs": [],
   "execution_count": 13
  },
  {
   "metadata": {
    "ExecuteTime": {
     "end_time": "2024-08-05T08:21:18.954674Z",
     "start_time": "2024-08-05T08:20:59.273517Z"
    }
   },
   "cell_type": "code",
   "source": "x = 1",
   "id": "c65b8c1461d3ab5a",
   "outputs": [
    {
     "ename": "KeyboardInterrupt",
     "evalue": "",
     "output_type": "error",
     "traceback": [
      "\u001B[1;31m---------------------------------------------------------------------------\u001B[0m",
      "\u001B[1;31mKeyboardInterrupt\u001B[0m                         Traceback (most recent call last)",
      "Cell \u001B[1;32mIn[14], line 1\u001B[0m\n\u001B[1;32m----> 1\u001B[0m x \u001B[38;5;241m=\u001B[39m \u001B[38;5;241m1\u001B[39m\n",
      "Cell \u001B[1;32mIn[14], line 1\u001B[0m\n\u001B[1;32m----> 1\u001B[0m x \u001B[38;5;241m=\u001B[39m \u001B[38;5;241m1\u001B[39m\n",
      "File \u001B[1;32m_pydevd_bundle\\pydevd_cython_win32_310_64.pyx:1187\u001B[0m, in \u001B[0;36m_pydevd_bundle.pydevd_cython_win32_310_64.SafeCallWrapper.__call__\u001B[1;34m()\u001B[0m\n",
      "File \u001B[1;32m_pydevd_bundle\\pydevd_cython_win32_310_64.pyx:627\u001B[0m, in \u001B[0;36m_pydevd_bundle.pydevd_cython_win32_310_64.PyDBFrame.trace_dispatch\u001B[1;34m()\u001B[0m\n",
      "File \u001B[1;32m_pydevd_bundle\\pydevd_cython_win32_310_64.pyx:937\u001B[0m, in \u001B[0;36m_pydevd_bundle.pydevd_cython_win32_310_64.PyDBFrame.trace_dispatch\u001B[1;34m()\u001B[0m\n",
      "File \u001B[1;32m_pydevd_bundle\\pydevd_cython_win32_310_64.pyx:928\u001B[0m, in \u001B[0;36m_pydevd_bundle.pydevd_cython_win32_310_64.PyDBFrame.trace_dispatch\u001B[1;34m()\u001B[0m\n",
      "File \u001B[1;32m_pydevd_bundle\\pydevd_cython_win32_310_64.pyx:585\u001B[0m, in \u001B[0;36m_pydevd_bundle.pydevd_cython_win32_310_64.PyDBFrame.do_wait_suspend\u001B[1;34m()\u001B[0m\n",
      "File \u001B[1;32m~\\AppData\\Local\\Programs\\PyCharm Professional\\plugins\\python\\helpers\\pydev\\pydevd.py:1201\u001B[0m, in \u001B[0;36mPyDB.do_wait_suspend\u001B[1;34m(self, thread, frame, event, arg, send_suspend_message, is_unhandled_exception)\u001B[0m\n\u001B[0;32m   1198\u001B[0m         from_this_thread\u001B[38;5;241m.\u001B[39mappend(frame_id)\n\u001B[0;32m   1200\u001B[0m \u001B[38;5;28;01mwith\u001B[39;00m \u001B[38;5;28mself\u001B[39m\u001B[38;5;241m.\u001B[39m_threads_suspended_single_notification\u001B[38;5;241m.\u001B[39mnotify_thread_suspended(thread_id, stop_reason):\n\u001B[1;32m-> 1201\u001B[0m     \u001B[38;5;28;43mself\u001B[39;49m\u001B[38;5;241;43m.\u001B[39;49m\u001B[43m_do_wait_suspend\u001B[49m\u001B[43m(\u001B[49m\u001B[43mthread\u001B[49m\u001B[43m,\u001B[49m\u001B[43m \u001B[49m\u001B[43mframe\u001B[49m\u001B[43m,\u001B[49m\u001B[43m \u001B[49m\u001B[43mevent\u001B[49m\u001B[43m,\u001B[49m\u001B[43m \u001B[49m\u001B[43marg\u001B[49m\u001B[43m,\u001B[49m\u001B[43m \u001B[49m\u001B[43msuspend_type\u001B[49m\u001B[43m,\u001B[49m\u001B[43m \u001B[49m\u001B[43mfrom_this_thread\u001B[49m\u001B[43m)\u001B[49m\n",
      "File \u001B[1;32m~\\AppData\\Local\\Programs\\PyCharm Professional\\plugins\\python\\helpers\\pydev\\pydevd.py:1216\u001B[0m, in \u001B[0;36mPyDB._do_wait_suspend\u001B[1;34m(self, thread, frame, event, arg, suspend_type, from_this_thread)\u001B[0m\n\u001B[0;32m   1213\u001B[0m             \u001B[38;5;28mself\u001B[39m\u001B[38;5;241m.\u001B[39m_call_mpl_hook()\n\u001B[0;32m   1215\u001B[0m         \u001B[38;5;28mself\u001B[39m\u001B[38;5;241m.\u001B[39mprocess_internal_commands()\n\u001B[1;32m-> 1216\u001B[0m         \u001B[43mtime\u001B[49m\u001B[38;5;241;43m.\u001B[39;49m\u001B[43msleep\u001B[49m\u001B[43m(\u001B[49m\u001B[38;5;241;43m0.01\u001B[39;49m\u001B[43m)\u001B[49m\n\u001B[0;32m   1218\u001B[0m \u001B[38;5;28mself\u001B[39m\u001B[38;5;241m.\u001B[39mcancel_async_evaluation(get_current_thread_id(thread), \u001B[38;5;28mstr\u001B[39m(\u001B[38;5;28mid\u001B[39m(frame)))\n\u001B[0;32m   1220\u001B[0m \u001B[38;5;66;03m# process any stepping instructions\u001B[39;00m\n",
      "\u001B[1;31mKeyboardInterrupt\u001B[0m: "
     ]
    }
   ],
   "execution_count": 14
  },
  {
   "metadata": {
    "ExecuteTime": {
     "start_time": "2024-08-05T06:02:16.294287Z"
    }
   },
   "cell_type": "code",
   "source": [
    "from litdata import optimize\n",
    "\n",
    "optimize(\n",
    "    fn=tokenization,\n",
    "    inputs=arrow_files[0:2],\n",
    "    output_dir=\"/data_fast\",\n",
    "    chunk_bytes=\"64MB\"\n",
    ")"
   ],
   "id": "14c93ca4ea0cb4ff",
   "outputs": [
    {
     "name": "stdout",
     "output_type": "stream",
     "text": [
      "Create an account on https://lightning.ai/ to optimize your data faster using multiple nodes and large machines.\n",
      "Storing the files under D:\\data_fast\n",
      "Setup started with fast_dev_run=False.\n",
      "Setup finished in 0.015 seconds. Found 2 items to process.\n",
      "Starting 1 workers with 2 items. The progress bar is only updated when a worker finishes.\n",
      "Workers are ready ! Starting data processing...\n"
     ]
    },
    {
     "data": {
      "text/plain": [
       "Progress:   0%|          | 0/2 [00:00<?, ?it/s]"
      ],
      "application/vnd.jupyter.widget-view+json": {
       "version_major": 2,
       "version_minor": 0,
       "model_id": "75575733e76d45229864832419fe9cc5"
      }
     },
     "metadata": {},
     "output_type": "display_data"
    }
   ],
   "execution_count": null
  },
  {
   "metadata": {},
   "cell_type": "markdown",
   "source": [
    "---\n",
    "# Dataloader"
   ],
   "id": "f0bf7e7431b7bcbf"
  },
  {
   "metadata": {
    "ExecuteTime": {
     "end_time": "2024-08-03T13:14:16.310568Z",
     "start_time": "2024-08-03T13:14:15.650551Z"
    }
   },
   "cell_type": "code",
   "source": [
    "import torch\n",
    "from torch.utils.data import DataLoader\n",
    "from transformers import DataCollatorForLanguageModeling"
   ],
   "id": "784d1ed38af04671",
   "outputs": [],
   "execution_count": 9
  },
  {
   "metadata": {
    "ExecuteTime": {
     "end_time": "2024-08-03T13:26:43.137889Z",
     "start_time": "2024-08-03T13:26:09.256311Z"
    }
   },
   "cell_type": "code",
   "source": "dataloader = DataLoader(dataset, collate_fn=DataCollatorForLanguageModeling(tokenizer))",
   "id": "11c380b8ec90622e",
   "outputs": [
    {
     "ename": "KeyboardInterrupt",
     "evalue": "",
     "output_type": "error",
     "traceback": [
      "\u001B[1;31m---------------------------------------------------------------------------\u001B[0m",
      "\u001B[1;31mKeyboardInterrupt\u001B[0m                         Traceback (most recent call last)",
      "Cell \u001B[1;32mIn[22], line 1\u001B[0m\n\u001B[1;32m----> 1\u001B[0m dataloader \u001B[38;5;241m=\u001B[39m \u001B[43mDataLoader\u001B[49m(dataset, collate_fn\u001B[38;5;241m=\u001B[39mDataCollatorForLanguageModeling(tokenizer))\n",
      "Cell \u001B[1;32mIn[22], line 1\u001B[0m\n\u001B[1;32m----> 1\u001B[0m dataloader \u001B[38;5;241m=\u001B[39m \u001B[43mDataLoader\u001B[49m(dataset, collate_fn\u001B[38;5;241m=\u001B[39mDataCollatorForLanguageModeling(tokenizer))\n",
      "File \u001B[1;32m_pydevd_bundle\\pydevd_cython_win32_310_64.pyx:1187\u001B[0m, in \u001B[0;36m_pydevd_bundle.pydevd_cython_win32_310_64.SafeCallWrapper.__call__\u001B[1;34m()\u001B[0m\n",
      "File \u001B[1;32m_pydevd_bundle\\pydevd_cython_win32_310_64.pyx:627\u001B[0m, in \u001B[0;36m_pydevd_bundle.pydevd_cython_win32_310_64.PyDBFrame.trace_dispatch\u001B[1;34m()\u001B[0m\n",
      "File \u001B[1;32m_pydevd_bundle\\pydevd_cython_win32_310_64.pyx:937\u001B[0m, in \u001B[0;36m_pydevd_bundle.pydevd_cython_win32_310_64.PyDBFrame.trace_dispatch\u001B[1;34m()\u001B[0m\n",
      "File \u001B[1;32m_pydevd_bundle\\pydevd_cython_win32_310_64.pyx:928\u001B[0m, in \u001B[0;36m_pydevd_bundle.pydevd_cython_win32_310_64.PyDBFrame.trace_dispatch\u001B[1;34m()\u001B[0m\n",
      "File \u001B[1;32m_pydevd_bundle\\pydevd_cython_win32_310_64.pyx:585\u001B[0m, in \u001B[0;36m_pydevd_bundle.pydevd_cython_win32_310_64.PyDBFrame.do_wait_suspend\u001B[1;34m()\u001B[0m\n",
      "File \u001B[1;32m~\\AppData\\Local\\Programs\\PyCharm Professional\\plugins\\python\\helpers\\pydev\\pydevd.py:1201\u001B[0m, in \u001B[0;36mPyDB.do_wait_suspend\u001B[1;34m(self, thread, frame, event, arg, send_suspend_message, is_unhandled_exception)\u001B[0m\n\u001B[0;32m   1198\u001B[0m         from_this_thread\u001B[38;5;241m.\u001B[39mappend(frame_id)\n\u001B[0;32m   1200\u001B[0m \u001B[38;5;28;01mwith\u001B[39;00m \u001B[38;5;28mself\u001B[39m\u001B[38;5;241m.\u001B[39m_threads_suspended_single_notification\u001B[38;5;241m.\u001B[39mnotify_thread_suspended(thread_id, stop_reason):\n\u001B[1;32m-> 1201\u001B[0m     \u001B[38;5;28;43mself\u001B[39;49m\u001B[38;5;241;43m.\u001B[39;49m\u001B[43m_do_wait_suspend\u001B[49m\u001B[43m(\u001B[49m\u001B[43mthread\u001B[49m\u001B[43m,\u001B[49m\u001B[43m \u001B[49m\u001B[43mframe\u001B[49m\u001B[43m,\u001B[49m\u001B[43m \u001B[49m\u001B[43mevent\u001B[49m\u001B[43m,\u001B[49m\u001B[43m \u001B[49m\u001B[43marg\u001B[49m\u001B[43m,\u001B[49m\u001B[43m \u001B[49m\u001B[43msuspend_type\u001B[49m\u001B[43m,\u001B[49m\u001B[43m \u001B[49m\u001B[43mfrom_this_thread\u001B[49m\u001B[43m)\u001B[49m\n",
      "File \u001B[1;32m~\\AppData\\Local\\Programs\\PyCharm Professional\\plugins\\python\\helpers\\pydev\\pydevd.py:1216\u001B[0m, in \u001B[0;36mPyDB._do_wait_suspend\u001B[1;34m(self, thread, frame, event, arg, suspend_type, from_this_thread)\u001B[0m\n\u001B[0;32m   1213\u001B[0m             \u001B[38;5;28mself\u001B[39m\u001B[38;5;241m.\u001B[39m_call_mpl_hook()\n\u001B[0;32m   1215\u001B[0m         \u001B[38;5;28mself\u001B[39m\u001B[38;5;241m.\u001B[39mprocess_internal_commands()\n\u001B[1;32m-> 1216\u001B[0m         \u001B[43mtime\u001B[49m\u001B[38;5;241;43m.\u001B[39;49m\u001B[43msleep\u001B[49m\u001B[43m(\u001B[49m\u001B[38;5;241;43m0.01\u001B[39;49m\u001B[43m)\u001B[49m\n\u001B[0;32m   1218\u001B[0m \u001B[38;5;28mself\u001B[39m\u001B[38;5;241m.\u001B[39mcancel_async_evaluation(get_current_thread_id(thread), \u001B[38;5;28mstr\u001B[39m(\u001B[38;5;28mid\u001B[39m(frame)))\n\u001B[0;32m   1220\u001B[0m \u001B[38;5;66;03m# process any stepping instructions\u001B[39;00m\n",
      "\u001B[1;31mKeyboardInterrupt\u001B[0m: "
     ]
    }
   ],
   "execution_count": 22
  },
  {
   "metadata": {
    "ExecuteTime": {
     "end_time": "2024-08-03T13:18:52.266505Z",
     "start_time": "2024-08-03T13:16:22.425700Z"
    }
   },
   "cell_type": "code",
   "source": [
    "for batch in dataloader:\n",
    "    print(batch)\n",
    "    break"
   ],
   "id": "d918ffaabb959478",
   "outputs": [
    {
     "ename": "ValueError",
     "evalue": "You should supply an encoding or a list of encodings to this method that includes input_ids, but you provided ['fname', 'audio', 'n_samples', 'text', 'normalized_text', 'score', 'raw', 'is_raw', 'source']",
     "output_type": "error",
     "traceback": [
      "\u001B[1;31m---------------------------------------------------------------------------\u001B[0m",
      "\u001B[1;31mValueError\u001B[0m                                Traceback (most recent call last)",
      "Cell \u001B[1;32mIn[13], line 1\u001B[0m\n\u001B[1;32m----> 1\u001B[0m \u001B[38;5;28;01mfor\u001B[39;00m batch \u001B[38;5;129;01min\u001B[39;00m dataloader:\n\u001B[0;32m      2\u001B[0m     \u001B[38;5;28mprint\u001B[39m(batch)\n\u001B[0;32m      3\u001B[0m     \u001B[38;5;28;01mbreak\u001B[39;00m\n",
      "File \u001B[1;32mD:\\Documents\\GitHub\\Audio-Project\\.venv\\lib\\site-packages\\torch\\utils\\data\\dataloader.py:630\u001B[0m, in \u001B[0;36m_BaseDataLoaderIter.__next__\u001B[1;34m(self)\u001B[0m\n\u001B[0;32m    627\u001B[0m \u001B[38;5;28;01mif\u001B[39;00m \u001B[38;5;28mself\u001B[39m\u001B[38;5;241m.\u001B[39m_sampler_iter \u001B[38;5;129;01mis\u001B[39;00m \u001B[38;5;28;01mNone\u001B[39;00m:\n\u001B[0;32m    628\u001B[0m     \u001B[38;5;66;03m# TODO(https://github.com/pytorch/pytorch/issues/76750)\u001B[39;00m\n\u001B[0;32m    629\u001B[0m     \u001B[38;5;28mself\u001B[39m\u001B[38;5;241m.\u001B[39m_reset()  \u001B[38;5;66;03m# type: ignore[call-arg]\u001B[39;00m\n\u001B[1;32m--> 630\u001B[0m data \u001B[38;5;241m=\u001B[39m \u001B[38;5;28;43mself\u001B[39;49m\u001B[38;5;241;43m.\u001B[39;49m\u001B[43m_next_data\u001B[49m\u001B[43m(\u001B[49m\u001B[43m)\u001B[49m\n\u001B[0;32m    631\u001B[0m \u001B[38;5;28mself\u001B[39m\u001B[38;5;241m.\u001B[39m_num_yielded \u001B[38;5;241m+\u001B[39m\u001B[38;5;241m=\u001B[39m \u001B[38;5;241m1\u001B[39m\n\u001B[0;32m    632\u001B[0m \u001B[38;5;28;01mif\u001B[39;00m \u001B[38;5;28mself\u001B[39m\u001B[38;5;241m.\u001B[39m_dataset_kind \u001B[38;5;241m==\u001B[39m _DatasetKind\u001B[38;5;241m.\u001B[39mIterable \u001B[38;5;129;01mand\u001B[39;00m \\\n\u001B[0;32m    633\u001B[0m         \u001B[38;5;28mself\u001B[39m\u001B[38;5;241m.\u001B[39m_IterableDataset_len_called \u001B[38;5;129;01mis\u001B[39;00m \u001B[38;5;129;01mnot\u001B[39;00m \u001B[38;5;28;01mNone\u001B[39;00m \u001B[38;5;129;01mand\u001B[39;00m \\\n\u001B[0;32m    634\u001B[0m         \u001B[38;5;28mself\u001B[39m\u001B[38;5;241m.\u001B[39m_num_yielded \u001B[38;5;241m>\u001B[39m \u001B[38;5;28mself\u001B[39m\u001B[38;5;241m.\u001B[39m_IterableDataset_len_called:\n",
      "File \u001B[1;32mD:\\Documents\\GitHub\\Audio-Project\\.venv\\lib\\site-packages\\torch\\utils\\data\\dataloader.py:673\u001B[0m, in \u001B[0;36m_SingleProcessDataLoaderIter._next_data\u001B[1;34m(self)\u001B[0m\n\u001B[0;32m    671\u001B[0m \u001B[38;5;28;01mdef\u001B[39;00m \u001B[38;5;21m_next_data\u001B[39m(\u001B[38;5;28mself\u001B[39m):\n\u001B[0;32m    672\u001B[0m     index \u001B[38;5;241m=\u001B[39m \u001B[38;5;28mself\u001B[39m\u001B[38;5;241m.\u001B[39m_next_index()  \u001B[38;5;66;03m# may raise StopIteration\u001B[39;00m\n\u001B[1;32m--> 673\u001B[0m     data \u001B[38;5;241m=\u001B[39m \u001B[38;5;28;43mself\u001B[39;49m\u001B[38;5;241;43m.\u001B[39;49m\u001B[43m_dataset_fetcher\u001B[49m\u001B[38;5;241;43m.\u001B[39;49m\u001B[43mfetch\u001B[49m\u001B[43m(\u001B[49m\u001B[43mindex\u001B[49m\u001B[43m)\u001B[49m  \u001B[38;5;66;03m# may raise StopIteration\u001B[39;00m\n\u001B[0;32m    674\u001B[0m     \u001B[38;5;28;01mif\u001B[39;00m \u001B[38;5;28mself\u001B[39m\u001B[38;5;241m.\u001B[39m_pin_memory:\n\u001B[0;32m    675\u001B[0m         data \u001B[38;5;241m=\u001B[39m _utils\u001B[38;5;241m.\u001B[39mpin_memory\u001B[38;5;241m.\u001B[39mpin_memory(data, \u001B[38;5;28mself\u001B[39m\u001B[38;5;241m.\u001B[39m_pin_memory_device)\n",
      "File \u001B[1;32mD:\\Documents\\GitHub\\Audio-Project\\.venv\\lib\\site-packages\\torch\\utils\\data\\_utils\\fetch.py:43\u001B[0m, in \u001B[0;36m_IterableDatasetFetcher.fetch\u001B[1;34m(self, possibly_batched_index)\u001B[0m\n\u001B[0;32m     41\u001B[0m \u001B[38;5;28;01melse\u001B[39;00m:\n\u001B[0;32m     42\u001B[0m     data \u001B[38;5;241m=\u001B[39m \u001B[38;5;28mnext\u001B[39m(\u001B[38;5;28mself\u001B[39m\u001B[38;5;241m.\u001B[39mdataset_iter)\n\u001B[1;32m---> 43\u001B[0m \u001B[38;5;28;01mreturn\u001B[39;00m \u001B[38;5;28;43mself\u001B[39;49m\u001B[38;5;241;43m.\u001B[39;49m\u001B[43mcollate_fn\u001B[49m\u001B[43m(\u001B[49m\u001B[43mdata\u001B[49m\u001B[43m)\u001B[49m\n",
      "File \u001B[1;32mD:\\Documents\\GitHub\\Audio-Project\\.venv\\lib\\site-packages\\transformers\\data\\data_collator.py:45\u001B[0m, in \u001B[0;36mDataCollatorMixin.__call__\u001B[1;34m(self, features, return_tensors)\u001B[0m\n\u001B[0;32m     43\u001B[0m     \u001B[38;5;28;01mreturn\u001B[39;00m \u001B[38;5;28mself\u001B[39m\u001B[38;5;241m.\u001B[39mtf_call(features)\n\u001B[0;32m     44\u001B[0m \u001B[38;5;28;01melif\u001B[39;00m return_tensors \u001B[38;5;241m==\u001B[39m \u001B[38;5;124m\"\u001B[39m\u001B[38;5;124mpt\u001B[39m\u001B[38;5;124m\"\u001B[39m:\n\u001B[1;32m---> 45\u001B[0m     \u001B[38;5;28;01mreturn\u001B[39;00m \u001B[38;5;28;43mself\u001B[39;49m\u001B[38;5;241;43m.\u001B[39;49m\u001B[43mtorch_call\u001B[49m\u001B[43m(\u001B[49m\u001B[43mfeatures\u001B[49m\u001B[43m)\u001B[49m\n\u001B[0;32m     46\u001B[0m \u001B[38;5;28;01melif\u001B[39;00m return_tensors \u001B[38;5;241m==\u001B[39m \u001B[38;5;124m\"\u001B[39m\u001B[38;5;124mnp\u001B[39m\u001B[38;5;124m\"\u001B[39m:\n\u001B[0;32m     47\u001B[0m     \u001B[38;5;28;01mreturn\u001B[39;00m \u001B[38;5;28mself\u001B[39m\u001B[38;5;241m.\u001B[39mnumpy_call(features)\n",
      "File \u001B[1;32mD:\\Documents\\GitHub\\Audio-Project\\.venv\\lib\\site-packages\\transformers\\data\\data_collator.py:806\u001B[0m, in \u001B[0;36mDataCollatorForLanguageModeling.torch_call\u001B[1;34m(self, examples)\u001B[0m\n\u001B[0;32m    803\u001B[0m \u001B[38;5;28;01mdef\u001B[39;00m \u001B[38;5;21mtorch_call\u001B[39m(\u001B[38;5;28mself\u001B[39m, examples: List[Union[List[\u001B[38;5;28mint\u001B[39m], Any, Dict[\u001B[38;5;28mstr\u001B[39m, Any]]]) \u001B[38;5;241m-\u001B[39m\u001B[38;5;241m>\u001B[39m Dict[\u001B[38;5;28mstr\u001B[39m, Any]:\n\u001B[0;32m    804\u001B[0m     \u001B[38;5;66;03m# Handle dict or lists with proper padding and conversion to tensor.\u001B[39;00m\n\u001B[0;32m    805\u001B[0m     \u001B[38;5;28;01mif\u001B[39;00m \u001B[38;5;28misinstance\u001B[39m(examples[\u001B[38;5;241m0\u001B[39m], Mapping):\n\u001B[1;32m--> 806\u001B[0m         batch \u001B[38;5;241m=\u001B[39m \u001B[43mpad_without_fast_tokenizer_warning\u001B[49m\u001B[43m(\u001B[49m\n\u001B[0;32m    807\u001B[0m \u001B[43m            \u001B[49m\u001B[38;5;28;43mself\u001B[39;49m\u001B[38;5;241;43m.\u001B[39;49m\u001B[43mtokenizer\u001B[49m\u001B[43m,\u001B[49m\u001B[43m \u001B[49m\u001B[43mexamples\u001B[49m\u001B[43m,\u001B[49m\u001B[43m \u001B[49m\u001B[43mreturn_tensors\u001B[49m\u001B[38;5;241;43m=\u001B[39;49m\u001B[38;5;124;43m\"\u001B[39;49m\u001B[38;5;124;43mpt\u001B[39;49m\u001B[38;5;124;43m\"\u001B[39;49m\u001B[43m,\u001B[49m\u001B[43m \u001B[49m\u001B[43mpad_to_multiple_of\u001B[49m\u001B[38;5;241;43m=\u001B[39;49m\u001B[38;5;28;43mself\u001B[39;49m\u001B[38;5;241;43m.\u001B[39;49m\u001B[43mpad_to_multiple_of\u001B[49m\n\u001B[0;32m    808\u001B[0m \u001B[43m        \u001B[49m\u001B[43m)\u001B[49m\n\u001B[0;32m    809\u001B[0m     \u001B[38;5;28;01melse\u001B[39;00m:\n\u001B[0;32m    810\u001B[0m         batch \u001B[38;5;241m=\u001B[39m {\n\u001B[0;32m    811\u001B[0m             \u001B[38;5;124m\"\u001B[39m\u001B[38;5;124minput_ids\u001B[39m\u001B[38;5;124m\"\u001B[39m: _torch_collate_batch(examples, \u001B[38;5;28mself\u001B[39m\u001B[38;5;241m.\u001B[39mtokenizer, pad_to_multiple_of\u001B[38;5;241m=\u001B[39m\u001B[38;5;28mself\u001B[39m\u001B[38;5;241m.\u001B[39mpad_to_multiple_of)\n\u001B[0;32m    812\u001B[0m         }\n",
      "File \u001B[1;32mD:\\Documents\\GitHub\\Audio-Project\\.venv\\lib\\site-packages\\transformers\\data\\data_collator.py:66\u001B[0m, in \u001B[0;36mpad_without_fast_tokenizer_warning\u001B[1;34m(tokenizer, *pad_args, **pad_kwargs)\u001B[0m\n\u001B[0;32m     63\u001B[0m tokenizer\u001B[38;5;241m.\u001B[39mdeprecation_warnings[\u001B[38;5;124m\"\u001B[39m\u001B[38;5;124mAsking-to-pad-a-fast-tokenizer\u001B[39m\u001B[38;5;124m\"\u001B[39m] \u001B[38;5;241m=\u001B[39m \u001B[38;5;28;01mTrue\u001B[39;00m\n\u001B[0;32m     65\u001B[0m \u001B[38;5;28;01mtry\u001B[39;00m:\n\u001B[1;32m---> 66\u001B[0m     padded \u001B[38;5;241m=\u001B[39m tokenizer\u001B[38;5;241m.\u001B[39mpad(\u001B[38;5;241m*\u001B[39mpad_args, \u001B[38;5;241m*\u001B[39m\u001B[38;5;241m*\u001B[39mpad_kwargs)\n\u001B[0;32m     67\u001B[0m \u001B[38;5;28;01mfinally\u001B[39;00m:\n\u001B[0;32m     68\u001B[0m     \u001B[38;5;66;03m# Restore the state of the warning.\u001B[39;00m\n\u001B[0;32m     69\u001B[0m     tokenizer\u001B[38;5;241m.\u001B[39mdeprecation_warnings[\u001B[38;5;124m\"\u001B[39m\u001B[38;5;124mAsking-to-pad-a-fast-tokenizer\u001B[39m\u001B[38;5;124m\"\u001B[39m] \u001B[38;5;241m=\u001B[39m warning_state\n",
      "File \u001B[1;32mD:\\Documents\\GitHub\\Audio-Project\\.venv\\lib\\site-packages\\transformers\\tokenization_utils_base.py:3497\u001B[0m, in \u001B[0;36mPreTrainedTokenizerBase.pad\u001B[1;34m(self, encoded_inputs, padding, max_length, pad_to_multiple_of, return_attention_mask, return_tensors, verbose)\u001B[0m\n\u001B[0;32m   3495\u001B[0m \u001B[38;5;66;03m# The model's main input name, usually `input_ids`, has be passed for padding\u001B[39;00m\n\u001B[0;32m   3496\u001B[0m \u001B[38;5;28;01mif\u001B[39;00m \u001B[38;5;28mself\u001B[39m\u001B[38;5;241m.\u001B[39mmodel_input_names[\u001B[38;5;241m0\u001B[39m] \u001B[38;5;129;01mnot\u001B[39;00m \u001B[38;5;129;01min\u001B[39;00m encoded_inputs:\n\u001B[1;32m-> 3497\u001B[0m     \u001B[38;5;28;01mraise\u001B[39;00m \u001B[38;5;167;01mValueError\u001B[39;00m(\n\u001B[0;32m   3498\u001B[0m         \u001B[38;5;124m\"\u001B[39m\u001B[38;5;124mYou should supply an encoding or a list of encodings to this method \u001B[39m\u001B[38;5;124m\"\u001B[39m\n\u001B[0;32m   3499\u001B[0m         \u001B[38;5;124mf\u001B[39m\u001B[38;5;124m\"\u001B[39m\u001B[38;5;124mthat includes \u001B[39m\u001B[38;5;132;01m{\u001B[39;00m\u001B[38;5;28mself\u001B[39m\u001B[38;5;241m.\u001B[39mmodel_input_names[\u001B[38;5;241m0\u001B[39m]\u001B[38;5;132;01m}\u001B[39;00m\u001B[38;5;124m, but you provided \u001B[39m\u001B[38;5;132;01m{\u001B[39;00m\u001B[38;5;28mlist\u001B[39m(encoded_inputs\u001B[38;5;241m.\u001B[39mkeys())\u001B[38;5;132;01m}\u001B[39;00m\u001B[38;5;124m\"\u001B[39m\n\u001B[0;32m   3500\u001B[0m     )\n\u001B[0;32m   3502\u001B[0m required_input \u001B[38;5;241m=\u001B[39m encoded_inputs[\u001B[38;5;28mself\u001B[39m\u001B[38;5;241m.\u001B[39mmodel_input_names[\u001B[38;5;241m0\u001B[39m]]\n\u001B[0;32m   3504\u001B[0m \u001B[38;5;28;01mif\u001B[39;00m required_input \u001B[38;5;129;01mis\u001B[39;00m \u001B[38;5;28;01mNone\u001B[39;00m \u001B[38;5;129;01mor\u001B[39;00m (\u001B[38;5;28misinstance\u001B[39m(required_input, Sized) \u001B[38;5;129;01mand\u001B[39;00m \u001B[38;5;28mlen\u001B[39m(required_input) \u001B[38;5;241m==\u001B[39m \u001B[38;5;241m0\u001B[39m):\n",
      "\u001B[1;31mValueError\u001B[0m: You should supply an encoding or a list of encodings to this method that includes input_ids, but you provided ['fname', 'audio', 'n_samples', 'text', 'normalized_text', 'score', 'raw', 'is_raw', 'source']"
     ]
    }
   ],
   "execution_count": 13
  }
 ],
 "metadata": {
  "kernelspec": {
   "display_name": "Python 3",
   "language": "python",
   "name": "python3"
  },
  "language_info": {
   "codemirror_mode": {
    "name": "ipython",
    "version": 2
   },
   "file_extension": ".py",
   "mimetype": "text/x-python",
   "name": "python",
   "nbconvert_exporter": "python",
   "pygments_lexer": "ipython2",
   "version": "2.7.6"
  }
 },
 "nbformat": 4,
 "nbformat_minor": 5
}
