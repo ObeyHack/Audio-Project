{
 "cells": [
  {
   "cell_type": "markdown",
   "id": "4e776d8ec69d7594",
   "metadata": {},
   "source": [
    "---\n",
    "# Check if GPU is available"
   ]
  },
  {
   "cell_type": "code",
   "execution_count": 1,
   "id": "421996f289019e1f",
   "metadata": {
    "ExecuteTime": {
     "end_time": "2024-07-25T11:25:18.512254Z",
     "start_time": "2024-07-25T11:25:15.574221Z"
    }
   },
   "outputs": [
    {
     "data": {
      "text/plain": [
       "True"
      ]
     },
     "execution_count": 1,
     "metadata": {},
     "output_type": "execute_result"
    }
   ],
   "source": [
    "import torch\n",
    "torch.cuda.is_available()"
   ]
  },
  {
   "cell_type": "markdown",
   "id": "82102a9e111e0be7",
   "metadata": {},
   "source": [
    "---\n",
    "# Logger"
   ]
  },
  {
   "cell_type": "code",
   "execution_count": 2,
   "id": "68358c3880e9d187",
   "metadata": {
    "ExecuteTime": {
     "end_time": "2024-07-25T18:40:11.835778Z",
     "start_time": "2024-07-25T18:39:54.559153Z"
    }
   },
   "outputs": [],
   "source": [
    "from lightning.pytorch.loggers import NeptuneLogger\n",
    "from dotenv import load_dotenv\n",
    "import os\n",
    "\n",
    "API_TOKEN = os.environ.get(\"LOGGER_API\")\n",
    "PROJECT_NAME = 'mrobay/Audio-project'\n",
    "\n",
    "logger_config = {\n",
    "    \"api_key\": API_TOKEN,\n",
    "    \"project_name\": PROJECT_NAME,\n",
    "    \"log_model_checkpoints\": False\n",
    "}"
   ]
  },
  {
   "cell_type": "markdown",
   "id": "43de8bcb4c1b3f50",
   "metadata": {},
   "source": [
    "# Train"
   ]
  },
  {
   "cell_type": "code",
   "execution_count": null,
   "id": "37ecf2e24e9612de",
   "metadata": {
    "ExecuteTime": {
     "end_time": "2024-07-25T19:16:36.765835Z",
     "start_time": "2024-07-25T19:16:36.764836Z"
    },
    "pycharm": {
     "is_executing": true
    }
   },
   "outputs": [],
   "source": [
    "import importlib\n",
    "importlib.reload(importlib.import_module(\"hebrewASR\"))\n",
    "importlib.reload(importlib.import_module(\"dataModule\"))\n",
    "from hebrewASR import HebrewASR, train_func, default_config\n",
    "neptune_logger = NeptuneLogger(project=PROJECT_NAME, api_key=API_TOKEN, log_model_checkpoints=False, tags=[\"train\", \"simple NN - Small dataset\"])\n",
    "trainer = train_func(config=default_config, logger=neptune_logger, num_epochs=5000)"
   ]
  },
  {
   "cell_type": "code",
   "execution_count": null,
   "id": "defd0660",
   "metadata": {},
   "outputs": [],
   "source": [
    "import importlib\n",
    "importlib.reload(importlib.import_module(\"deep\"))\n",
    "importlib.reload(importlib.import_module(\"dataModule\"))\n",
    "from deep import DeepSpeech2ishLightningModule, train_func, default_config\n",
    "\n",
    "neptune_logger = NeptuneLogger(project=PROJECT_NAME, api_key=API_TOKEN, log_model_checkpoints=False, tags=[\"deepish\"])\n",
    "trainer = train_func(config=default_config, logger=neptune_logger, num_epochs=1000)"
   ]
  },
  {
   "cell_type": "markdown",
   "id": "bee0ca65",
   "metadata": {},
   "source": [
    "# Resume Training"
   ]
  },
  {
   "cell_type": "code",
   "execution_count": 4,
   "id": "fc641805",
   "metadata": {},
   "outputs": [
    {
     "name": "stderr",
     "output_type": "stream",
     "text": [
      "/home/zeus/miniconda3/envs/cloudspace/lib/python3.10/site-packages/lightning_sdk/helpers.py:44: A newer version of lightning-sdk is available (0.1.15). Please consider upgrading with `pip install -U lightning-sdk`. Not all functionalities of the platform can be guaranteed to work with the current version.\n",
      "[neptune] [warning] NeptuneWarning: The following monitoring options are disabled by default in interactive sessions: 'capture_stdout', 'capture_stderr', 'capture_traceback', and 'capture_hardware_metrics'. To enable them, set each parameter to 'True' when initializing the run. The monitoring will continue until you call run.stop() or the kernel stops. Also note: Your source files can only be tracked if you pass the path(s) to the 'source_code' argument. For help, see the Neptune docs: https://docs.neptune.ai/logging/source_code/\n"
     ]
    },
    {
     "name": "stdout",
     "output_type": "stream",
     "text": [
      "[neptune] [info   ] Neptune initialized. Open in the app: https://app.neptune.ai/mrobay/Audio-project/e/AUD1-537\n"
     ]
    },
    {
     "name": "stderr",
     "output_type": "stream",
     "text": [
      "GPU available: True (cuda), used: True\n",
      "TPU available: False, using: 0 TPU cores\n",
      "HPU available: False, using: 0 HPUs\n",
      "You are using a CUDA device ('NVIDIA L4') that has Tensor Cores. To properly utilize them, you should set `torch.set_float32_matmul_precision('medium' | 'high')` which will trade-off precision for performance. For more details, read https://pytorch.org/docs/stable/generated/torch.set_float32_matmul_precision.html#torch.set_float32_matmul_precision\n",
      "Restoring states from the checkpoint path at /teamspace/studios/this_studio/.neptune/AUD1-535/AUD1-535/checkpoints/epoch=611-step=153000.ckpt\n",
      "/home/zeus/miniconda3/envs/cloudspace/lib/python3.10/site-packages/lightning/fabric/utilities/cloud_io.py:57: You are using `torch.load` with `weights_only=False` (the current default value), which uses the default pickle module implicitly. It is possible to construct malicious pickle data which will execute arbitrary code during unpickling (See https://github.com/pytorch/pytorch/blob/main/SECURITY.md#untrusted-models for more details). In a future release, the default value for `weights_only` will be flipped to `True`. This limits the functions that could be executed during unpickling. Arbitrary objects will no longer be allowed to be loaded via this mode unless they are explicitly allowlisted by the user via `torch.serialization.add_safe_globals`. We recommend you start setting `weights_only=True` for any use case where you don't have full control of the loaded file. Please open an issue on GitHub for any issues related to this experimental feature.\n",
      "/home/zeus/miniconda3/envs/cloudspace/lib/python3.10/site-packages/lightning/pytorch/callbacks/model_checkpoint.py:360: The dirpath has changed from '/teamspace/studios/this_studio/.neptune/AUD1-535/AUD1-535/checkpoints' to '/teamspace/studios/this_studio/.neptune/AUD1-537/AUD1-537/checkpoints', therefore `best_model_score`, `kth_best_model_path`, `kth_value`, `last_model_path` and `best_k_models` won't be reloaded. Only `best_model_path` will be reloaded.\n",
      "LOCAL_RANK: 0 - CUDA_VISIBLE_DEVICES: [0]\n",
      "Loading `train_dataloader` to estimate number of stepping batches.\n",
      "/home/zeus/miniconda3/envs/cloudspace/lib/python3.10/site-packages/lightning/pytorch/utilities/data.py:122: Your `IterableDataset` has `__len__` defined. In combination with multi-process data loading (when num_workers > 1), `__len__` could be inaccurate if each worker is not configured independently to avoid having duplicate data.\n",
      "\n",
      "  | Name         | Type             | Params | Mode \n",
      "----------------------------------------------------------\n",
      "0 | ctc_decoder  | GreedyCTCDecoder | 0      | train\n",
      "1 | loss         | CTCLoss          | 0      | train\n",
      "2 | conv_layers  | CNN              | 66.4 K | train\n",
      "3 | bi_rnns      | ModuleList       | 9.2 M  | train\n",
      "4 | linear_final | Sequential       | 283 K  | train\n",
      "----------------------------------------------------------\n",
      "9.5 M     Trainable params\n",
      "0         Non-trainable params\n",
      "9.5 M     Total params\n",
      "38.080    Total estimated model params size (MB)\n",
      "Restored all states from the checkpoint at /teamspace/studios/this_studio/.neptune/AUD1-535/AUD1-535/checkpoints/epoch=611-step=153000.ckpt\n"
     ]
    },
    {
     "data": {
      "application/vnd.jupyter.widget-view+json": {
       "model_id": "f895636296e340369a1e0ddd44f4faa1",
       "version_major": 2,
       "version_minor": 0
      },
      "text/plain": [
       "Sanity Checking: |          | 0/? [00:00<?, ?it/s]"
      ]
     },
     "metadata": {},
     "output_type": "display_data"
    },
    {
     "name": "stderr",
     "output_type": "stream",
     "text": [
      "/home/zeus/miniconda3/envs/cloudspace/lib/python3.10/site-packages/lightning/pytorch/utilities/data.py:122: Your `IterableDataset` has `__len__` defined. In combination with multi-process data loading (when num_workers > 1), `__len__` could be inaccurate if each worker is not configured independently to avoid having duplicate data.\n"
     ]
    },
    {
     "data": {
      "application/vnd.jupyter.widget-view+json": {
       "model_id": "acfd01d26d744d34a531ebb37b8d6cec",
       "version_major": 2,
       "version_minor": 0
      },
      "text/plain": [
       "Training: |          | 0/? [00:00<?, ?it/s]"
      ]
     },
     "metadata": {},
     "output_type": "display_data"
    },
    {
     "data": {
      "application/vnd.jupyter.widget-view+json": {
       "model_id": "3ada1e5c69f8457e99c41d9ff509fee7",
       "version_major": 2,
       "version_minor": 0
      },
      "text/plain": [
       "Validation: |          | 0/? [00:00<?, ?it/s]"
      ]
     },
     "metadata": {},
     "output_type": "display_data"
    },
    {
     "data": {
      "application/vnd.jupyter.widget-view+json": {
       "model_id": "3849538f068f46ca8d1494b83dbdaeff",
       "version_major": 2,
       "version_minor": 0
      },
      "text/plain": [
       "Validation: |          | 0/? [00:00<?, ?it/s]"
      ]
     },
     "metadata": {},
     "output_type": "display_data"
    }
   ],
   "source": [
    "import importlib\n",
    "importlib.reload(importlib.import_module(\"hebrewASR\"))\n",
    "importlib.reload(importlib.import_module(\"dataModule\"))\n",
    "from hebrewASR import HebrewASR, train_func, default_config\n",
    "\n",
    "neptune_logger_tuner = NeptuneLogger(project=PROJECT_NAME, api_key=API_TOKEN, log_model_checkpoints=False, tags=[\"tune\"])\n",
    "tune_ckpt_path =  \"/teamspace/studios/this_studio/.neptune/AUD1-535/AUD1-535/checkpoints/epoch=611-step=153000.ckpt\"\n",
    "\n",
    "config = default_config\n",
    "config[\"decoder\"] = \"greedy\"\n",
    "\n",
    "trainer = train_func(config=config, logger=neptune_logger_tuner, checkpoints=tune_ckpt_path, num_epochs=1000)"
   ]
  },
  {
   "cell_type": "markdown",
   "id": "5a0ab78a4db5650a",
   "metadata": {},
   "source": [
    "---\n",
    "# Validation"
   ]
  },
  {
   "cell_type": "markdown",
   "id": "cfd1b6a0057877dd",
   "metadata": {},
   "source": [
    "---\n",
    "# Test the classifier"
   ]
  },
  {
   "cell_type": "code",
   "execution_count": 4,
   "id": "d715b24a",
   "metadata": {},
   "outputs": [
    {
     "name": "stdout",
     "output_type": "stream",
     "text": [
      "[neptune] [info   ] Neptune initialized. Open in the app: https://app.neptune.ai/mrobay/Audio-project/e/AUD1-558\n"
     ]
    },
    {
     "name": "stderr",
     "output_type": "stream",
     "text": [
      "Seed set to 42\n",
      "GPU available: True (cuda), used: True\n",
      "TPU available: False, using: 0 TPU cores\n",
      "HPU available: False, using: 0 HPUs\n",
      "Restoring states from the checkpoint path at /teamspace/studios/this_studio/.neptune/epoch=190-step=25212.ckpt\n",
      "/home/zeus/miniconda3/envs/cloudspace/lib/python3.10/site-packages/lightning/fabric/utilities/cloud_io.py:57: You are using `torch.load` with `weights_only=False` (the current default value), which uses the default pickle module implicitly. It is possible to construct malicious pickle data which will execute arbitrary code during unpickling (See https://github.com/pytorch/pytorch/blob/main/SECURITY.md#untrusted-models for more details). In a future release, the default value for `weights_only` will be flipped to `True`. This limits the functions that could be executed during unpickling. Arbitrary objects will no longer be allowed to be loaded via this mode unless they are explicitly allowlisted by the user via `torch.serialization.add_safe_globals`. We recommend you start setting `weights_only=True` for any use case where you don't have full control of the loaded file. Please open an issue on GitHub for any issues related to this experimental feature.\n",
      "LOCAL_RANK: 0 - CUDA_VISIBLE_DEVICES: [0]\n",
      "Loaded model weights from the checkpoint at /teamspace/studios/this_studio/.neptune/epoch=190-step=25212.ckpt\n",
      "/home/zeus/miniconda3/envs/cloudspace/lib/python3.10/site-packages/lightning/pytorch/utilities/data.py:122: Your `IterableDataset` has `__len__` defined. In combination with multi-process data loading (when num_workers > 1), `__len__` could be inaccurate if each worker is not configured independently to avoid having duplicate data.\n"
     ]
    },
    {
     "data": {
      "application/vnd.jupyter.widget-view+json": {
       "model_id": "ba2b80b97ada43c3bfa0192cbcc7adcc",
       "version_major": 2,
       "version_minor": 0
      },
      "text/plain": [
       "Testing: |          | 0/? [00:00<?, ?it/s]"
      ]
     },
     "metadata": {},
     "output_type": "display_data"
    },
    {
     "name": "stdout",
     "output_type": "stream",
     "text": [
      "[neptune] [info   ] Shutting down background jobs, please wait a moment...\n",
      "[neptune] [info   ] Done!\n",
      "[neptune] [info   ] Waiting for the remaining 44 operations to synchronize with Neptune. Do not kill this process.\n",
      "[neptune] [info   ] All 44 operations synced, thanks for waiting!\n",
      "[neptune] [info   ] Explore the metadata in the Neptune app: https://app.neptune.ai/mrobay/Audio-project/e/AUD1-558/metadata\n"
     ]
    },
    {
     "data": {
      "text/plain": [
       "<lightning.pytorch.trainer.trainer.Trainer at 0x7f2d40cd0a60>"
      ]
     },
     "execution_count": 4,
     "metadata": {},
     "output_type": "execute_result"
    }
   ],
   "source": [
    "import importlib\n",
    "importlib.reload(importlib.import_module(\"hebrewASR\"))\n",
    "importlib.reload(importlib.import_module(\"dataModule\"))\n",
    "from hebrewASR import HebrewASR, train_func, default_config\n",
    "from hebrewASR import test_func, default_config\n",
    "\n",
    "neptune_logger_test = NeptuneLogger(project=PROJECT_NAME, api_key=API_TOKEN, log_model_checkpoints=False, tags=[\"test\"])\n",
    "\n",
    "test_checkpoint = \"/teamspace/studios/this_studio/.neptune/epoch=190-step=25212.ckpt\"\n",
    "\n",
    "config = default_config\n",
    "config[\"decoder\"] = \"greedy\"\n",
    "\n",
    "test_func(config=config, logger=neptune_logger_test, checkpoints=test_checkpoint)"
   ]
  }
 ],
 "metadata": {
  "kernelspec": {
   "display_name": "Python 3",
   "language": "python",
   "name": "python3"
  },
  "language_info": {
   "codemirror_mode": {
    "name": "ipython",
    "version": 3
   },
   "file_extension": ".py",
   "mimetype": "text/x-python",
   "name": "python",
   "nbconvert_exporter": "python",
   "pygments_lexer": "ipython3",
   "version": "3.10.10"
  }
 },
 "nbformat": 4,
 "nbformat_minor": 5
}
