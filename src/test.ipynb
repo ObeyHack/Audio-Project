{
 "cells": [
  {
   "cell_type": "markdown",
   "metadata": {},
   "source": [
    "# AudioDataModule"
   ]
  },
  {
   "cell_type": "code",
   "execution_count": 1,
   "metadata": {},
   "outputs": [
    {
     "name": "stderr",
     "output_type": "stream",
     "text": [
      "/home/zeus/miniconda3/envs/cloudspace/lib/python3.10/site-packages/lightning_sdk/helpers.py:44: A newer version of lightning-sdk is available (0.1.15). Please consider upgrading with `pip install -U lightning-sdk`. Not all functionalities of the platform can be guaranteed to work with the current version.\n"
     ]
    }
   ],
   "source": [
    "import importlib\n",
    "importlib.reload(importlib.import_module(\"src.dataModule\"))\n",
    "from src.dataModule import AudioDataModule\n",
    "from transformers import AutoTokenizer\n",
    "from transformers import WhisperTokenizer\n",
    "from prep.processor import get_tokenizer\n",
    "\n",
    "dm = AudioDataModule()\n",
    "dm.setup(\"fit\")\n",
    "dm.setup(\"validate\")\n",
    "dm.setup(\"test\")"
   ]
  },
  {
   "cell_type": "markdown",
   "metadata": {},
   "source": [
    "# Batch"
   ]
  },
  {
   "cell_type": "code",
   "execution_count": 2,
   "metadata": {},
   "outputs": [
    {
     "data": {
      "application/vnd.jupyter.widget-view+json": {
       "model_id": "d1e0a59c7a4c467bb8fe094fec02e7f3",
       "version_major": 2,
       "version_minor": 0
      },
      "text/plain": [
       "  0%|          | 0/313 [00:00<?, ?it/s]"
      ]
     },
     "metadata": {},
     "output_type": "display_data"
    },
    {
     "name": "stdout",
     "output_type": "stream",
     "text": [
      "--- 41.945616483688354 seconds ---\n"
     ]
    }
   ],
   "source": [
    "from tqdm.auto import tqdm\n",
    "import time\n",
    "import torch\n",
    "\n",
    "\n",
    "start_time = time.time()\n",
    "i= 0\n",
    "for batch in tqdm(dm.train_dataloader()):\n",
    "    x, x_len, y, y_len = batch\n",
    "    # print(\"x\")\n",
    "    # print(x_len)\n",
    "    # print(\"y\")\n",
    "    # print(y_len)\n",
    "    # print(i)\n",
    "    # i += 1\n",
    "    pass\n",
    "\n",
    "print(\"--- %s seconds ---\" % (time.time() - start_time))"
   ]
  },
  {
   "cell_type": "code",
   "execution_count": 5,
   "metadata": {},
   "outputs": [
    {
     "name": "stderr",
     "output_type": "stream",
     "text": [
      "  0%|          | 0/1421 [00:00<?, ?it/s]"
     ]
    },
    {
     "name": "stdout",
     "output_type": "stream",
     "text": [
      "ואהבת את זה אהבתי את זה והייתי בשקיקה מחכה כל זה היה שבועי אז כל שבוע הייתי\n",
      "75\n",
      "tensor(77)\n",
      "חשבתי רק ככה בשביל הצחוק המ ישלחו אחרי את הכדור\n",
      "47\n",
      "tensor(49)\n",
      "וגמ יצאו בלי כלומ כמעט\n",
      "22\n",
      "tensor(24)\n",
      "ליונה ופעמ לעפרה ובסופ אמרתי תעזבו אני\n",
      "38\n",
      "tensor(40)\n",
      "למה אני מספרת את זה זה גמ כנ קרה אבל כאנ יש נקודה\n",
      "49\n",
      "tensor(51)\n",
      "אנחנו גמ למדנו איזה שעתיימ ביומ את השפה הרומנית בבית הספר\n",
      "57\n",
      "tensor(59)\n",
      "אז כשנכנסנו המ התנהגו יפה זה היה דנקשנ אביטה שיינ מכל הצדדימ\n",
      "60\n",
      "tensor(62)\n",
      "וזה למד לדוד הבכור והדוד הבכור להדוד השני ואבא הרביעי קיבל\n",
      "58\n",
      "tensor(60)\n",
      "אחר ככ או שנחזור הביתה והגרמנימ בודאי יפסידו את המלחמה או שנלכ לארצ ישראל בעזרת הגרמנימ וכו\n",
      "91\n",
      "tensor(93)\n",
      "היא שכבה במקומ שהיה מאד שמור כי היא היתה חולה היא לא היתה יכולה לנשומ בכלל\n",
      "74\n",
      "tensor(76)\n",
      "בטח חגגתמ\n",
      "9\n",
      "tensor(11)\n",
      "מהחומר הזה הוא עשה לאמא שלי פודריה\n",
      "34\n",
      "tensor(36)\n",
      "היה משהו נורא\n",
      "13\n",
      "tensor(15)\n",
      "המ ניסו ניסו מאד\n",
      "16\n",
      "tensor(18)\n",
      "בולגריה להשמדה\n",
      "14\n",
      "tensor(16)\n",
      "אז\n",
      "2\n",
      "tensor(4)\n",
      "היודנ פולציאי בוינה\n",
      "19\n",
      "tensor(21)\n",
      "כל המ פחדו וגמ הבלוקובימ והפשטובימ כולמ פחדו מזה שיומ אחד ישלחו אותמ גמ כנ לגז כשימצאו שמ את הטיפוס ואת הכינימ שמביאות את הטיפוס הזה\n",
      "132\n",
      "tensor(134)\n",
      "מה אבא שלכ עשה ממה אבא התפרנס\n",
      "29\n",
      "tensor(31)\n",
      "בבית או אתה מדבר על\n",
      "19\n",
      "tensor(21)\n",
      "כשאתמ עוזבימ את לז ה אבא הולכ למחנה מאחורי הגדרות ואמא\n",
      "54\n",
      "tensor(56)\n",
      "משהו סליחה כנ מבחינת הזמנ\n",
      "25\n",
      "tensor(27)\n",
      "נמאס להמ כבר גמ כנ וחיכו שהמלחמה תגמר\n",
      "37\n",
      "tensor(39)\n",
      "של השגרירות השוויצרית יותר נכונ של הצלב האדומ הבינלאומי שכל מיני יהודימ הצליחו להשיג אותמ אני לא יודע באיזו צורה ובאיזה נימוק\n",
      "125\n",
      "tensor(127)\n",
      "אני זוכר את עצמי שהייתי בא לשמה לבית ספר היהודי ככה סתמ לטייל מבקר\n",
      "66\n",
      "tensor(68)\n",
      "אז הוא יוצא איתכמ מגלסקו לאמריקה\n",
      "32\n",
      "tensor(34)\n",
      "כמובנ המשפחה היתה יחד\n",
      "21\n",
      "tensor(23)\n",
      "זה המ לא חששו\n",
      "13\n",
      "tensor(15)\n",
      "עבודת כפייה\n",
      "11\n",
      "tensor(13)\n"
     ]
    },
    {
     "name": "stderr",
     "output_type": "stream",
     "text": [
      "  0%|          | 0/1421 [00:01<?, ?it/s]"
     ]
    },
    {
     "name": "stdout",
     "output_type": "stream",
     "text": [
      "זאת אומרת לצורכ חילול שבת והשפלה ולא לשומ צורכ אחר\n",
      "50\n",
      "tensor(52)\n",
      "גמ המ עברו את כל המחנות\n",
      "23\n",
      "tensor(25)\n",
      "אמא שלכ היא הלכה לבית ספר בולגרי\n",
      "32\n",
      "tensor(34)\n"
     ]
    },
    {
     "name": "stderr",
     "output_type": "stream",
     "text": [
      "\n"
     ]
    }
   ],
   "source": [
    "from tqdm import tqdm\n",
    "import time\n",
    "import torch\n",
    "from prep.processor import get_tokenizer\n",
    "\n",
    "tokenizer = get_tokenizer()\n",
    "\n",
    "start_time = time.time()\n",
    "for batch in tqdm(dm.train_dataloader()):\n",
    "    x, x_len, y, y_len = batch\n",
    "    for y_i, len_i in zip(y, y_len):\n",
    "        decode = tokenizer.decode(y_i, skip_special_tokens=True)\n",
    "        print(decode)\n",
    "        print(len(decode))\n",
    "        print(len_i)\n",
    "    break\n"
   ]
  },
  {
   "cell_type": "code",
   "execution_count": null,
   "metadata": {},
   "outputs": [
    {
     "name": "stderr",
     "output_type": "stream",
     "text": [
      "  0%|          | 0/250 [00:00<?, ?it/s]"
     ]
    },
    {
     "data": {
      "image/png": "[encoded data removed]",
      "text/plain": [
       "<Figure size 1000x400 with 2 Axes>"
      ]
     },
     "metadata": {},
     "output_type": "display_data"
    },
    {
     "name": "stderr",
     "output_type": "stream",
     "text": [
      "  0%|          | 0/250 [00:01<?, ?it/s]\n"
     ]
    }
   ],
   "source": [
    "from tqdm import tqdm\n",
    "import time\n",
    "import torch\n",
    "from prep.processor import get_tokenizer\n",
    "\n",
    "tokenizer = get_tokenizer()\n",
    "\n",
    "start_time = time.time()\n",
    "for batch in tqdm(dm.train_dataloader()):\n",
    "    x, x_len, y, y_len = batch\n",
    "    # plot mel spectrogram\n",
    "    import matplotlib.pyplot as plt\n",
    "    import numpy as np\n",
    "    x_i = x[0].numpy()\n",
    "    plt.figure(figsize=(10, 4))\n",
    "    plt.imshow(x_i, origin='lower', aspect='auto', interpolation='none')\n",
    "    plt.colorbar()\n",
    "    plt.title('Mel spectrogram')\n",
    "    plt.tight_layout()\n",
    "    plt.show()\n",
    "    break"
   ]
  },
  {
   "cell_type": "markdown",
   "metadata": {},
   "source": [
    "---\n",
    "# Test"
   ]
  },
  {
   "cell_type": "code",
   "execution_count": null,
   "metadata": {},
   "outputs": [],
   "source": [
    "from datasets import load_dataset\n",
    "dataset = load_dataset(\"google/fleurs\", \"he_il\", split=\"test\", cache_dir='datasets/test', trust_remote_code=True)\n",
    "dataset = dataset.rename_column(\"transcription\", \"normalized_text\")"
   ]
  },
  {
   "cell_type": "code",
   "execution_count": null,
   "metadata": {},
   "outputs": [
    {
     "name": "stderr",
     "output_type": "stream",
     "text": [
      "Some weights of the model checkpoint at facebook/wav2vec2-base-100h were not used when initializing Wav2Vec2ForCTC: ['wav2vec2.encoder.pos_conv_embed.conv.weight_g', 'wav2vec2.encoder.pos_conv_embed.conv.weight_v', 'wav2vec2.mask_time_emb_vector']\n",
      "- This IS expected if you are initializing Wav2Vec2ForCTC from the checkpoint of a model trained on another task or with another architecture (e.g. initializing a BertForSequenceClassification model from a BertForPreTraining model).\n",
      "- This IS NOT expected if you are initializing Wav2Vec2ForCTC from the checkpoint of a model that you expect to be exactly identical (initializing a BertForSequenceClassification model from a BertForSequenceClassification model).\n",
      "Some weights of Wav2Vec2ForCTC were not initialized from the model checkpoint at facebook/wav2vec2-base-100h and are newly initialized: ['wav2vec2.encoder.pos_conv_embed.conv.parametrizations.weight.original0', 'wav2vec2.encoder.pos_conv_embed.conv.parametrizations.weight.original1', 'wav2vec2.masked_spec_embed']\n",
      "You should probably TRAIN this model on a down-stream task to be able to use it for predictions and inference.\n"
     ]
    }
   ],
   "source": [
    "from transformers import Wav2Vec2Processor, Wav2Vec2ForCTC\n",
    "import torch\n",
    "processor = Wav2Vec2Processor.from_pretrained(\"facebook/wav2vec2-base-100h\")\n",
    "model = Wav2Vec2ForCTC.from_pretrained(\"facebook/wav2vec2-base-100h\")"
   ]
  },
  {
   "cell_type": "code",
   "execution_count": null,
   "metadata": {},
   "outputs": [],
   "source": [
    "audio_sample = dataset[2]\n",
    "inputs = processor(audio_sample[\"audio\"][\"array\"], sampling_rate=audio_sample[\"audio\"][\"sampling_rate\"], return_tensors=\"pt\")"
   ]
  },
  {
   "cell_type": "code",
   "execution_count": null,
   "metadata": {},
   "outputs": [
    {
     "ename": "NameError",
     "evalue": "name 'inputs' is not defined",
     "output_type": "error",
     "traceback": [
      "\u001b[0;31m---------------------------------------------------------------------------\u001b[0m",
      "\u001b[0;31mNameError\u001b[0m                                 Traceback (most recent call last)",
      "Cell \u001b[0;32mIn[14], line 1\u001b[0m\n\u001b[0;32m----> 1\u001b[0m x \u001b[38;5;241m=\u001b[39m \u001b[43minputs\u001b[49m\u001b[38;5;241m.\u001b[39minput_values\n\u001b[1;32m      3\u001b[0m \u001b[38;5;28;01mwith\u001b[39;00m torch\u001b[38;5;241m.\u001b[39mno_grad():\n\u001b[1;32m      4\u001b[0m   logits \u001b[38;5;241m=\u001b[39m model(x)\u001b[38;5;241m.\u001b[39mlogits\n",
      "\u001b[0;31mNameError\u001b[0m: name 'inputs' is not defined"
     ]
    }
   ],
   "source": [
    "x = inputs.input_values\n",
    "\n",
    "with torch.no_grad():\n",
    "  logits = model(x).logits\n",
    "\n",
    "  "
   ]
  },
  {
   "cell_type": "code",
   "execution_count": null,
   "metadata": {},
   "outputs": [
    {
     "name": "stdout",
     "output_type": "stream",
     "text": [
      "[[0, 7, 12, 12, 16, 31, 34, 11, 31, 16, 21, 34, 28, 19, 12, 19, 34, 17, 16, 16, 23, 34, 12, 31, 16, 14, 34, 7, 12, 31, 22, 16, 21, 34, 22, 16, 32, 7, 34, 8, 31, 12, 14, 34, 11, 25, 31, 8, 16, 16, 21, 34, 25, 21, 34, 30, 12, 19, 34, 26, 25, 20, 12, 22, 16, 21, 34, 12, 8, 33, 31, 10, 20, 33, 34, 7, 16, 19, 23, 34, 12, 7, 8, 23, 35, 34, 32, 8, 12, 16, 11, 34, 8, 14, 19, 12, 20, 11, 34, 11, 25, 16, 31, 34, 7, 32, 31, 34, 8, 10, 10, 34, 16, 12, 32, 8, 33, 34, 12, 8, 19, 16, 8, 11, 34, 14, 12, 20, 11, 34, 16, 31, 12, 32, 19, 16, 21, 34, 32, 19, 34, 13, 11, 8, 34, 12, 32, 19, 34, 22, 14, 12, 32, 33, 34, 12, 32, 19, 34, 7, 12, 31, 34, 11, 19, 7, 34, 19, 17, 19, 34, 32, 16, 31, 16, 16, 18, 35, 34, 7, 22, 16, 34, 17, 16, 22, 12, 31, 34, 16, 31, 12, 32, 19, 16, 21, 34, 32, 19, 34, 13, 11, 8, 34, 12, 32, 19, 34, 22, 14, 12, 32, 33, 34, 12, 32, 19, 34, 7, 12, 31, 34, 11, 19, 7, 34, 19, 17, 19, 34, 32, 16, 31, 16, 16, 18, 35, 34, 7, 22, 16, 34, 17, 16, 22, 12, 31, 34, 7, 16, 17, 11, 34, 16, 8, 32, 12, 34, 8, 12, 31, 12, 33, 34, 11, 20, 16, 21, 35, 34, 17, 16, 17, 31, 34, 11, 32, 12, 30, 34, 31, 16, 30, 11, 34, 12, 7, 16, 23, 34, 26, 12, 30, 10, 34, 7, 33, 34, 11, 31, 34, 11, 8, 16, 33, 34, 8, 25, 16, 31, 34, 11, 25, 33, 16, 30, 11, 34, 12, 8, 20, 25, 31, 12, 33, 34, 7, 32, 31, 34, 8, 24, 19, 25, 35, 34, 20, 16, 16, 19, 19, 12, 33, 34, 31, 12, 14, 12, 33, 34, 12, 7, 16, 23, 34, 16, 12, 31, 10, 34, 7, 19, 34, 16, 21, 34, 11, 20, 19, 14, 34, 8, 10, 31, 18, 34, 16, 31, 16, 14, 12, 34, 16, 31, 12, 32, 19, 16, 21, 34, 32, 19, 34, 13, 11, 8, 34, 12, 32, 19, 34, 22, 14, 12, 32, 33, 34, 12, 32, 19, 34, 7, 12, 31, 34, 11, 19, 7, 34, 19, 17, 19, 34, 32, 16, 31, 16, 16, 18, 35, 34, 7, 22, 16, 34, 17, 16, 22, 12, 31, 34, 16, 31, 12, 32, 19, 16, 21, 34, 32, 19, 34, 13, 11, 8, 34, 12, 32, 19, 34, 22, 14, 12, 32, 33, 34, 12, 32, 19, 34, 7, 12, 31, 34, 11, 19, 7, 34, 19, 17, 19, 34, 32, 16, 31, 16, 16, 18, 35, 34, 7, 22, 16, 34, 17, 16, 22, 12, 31, 34, 7, 18, 34, 8, 8, 12, 7, 16, 34, 11, 16, 12, 21, 34, 19, 32, 16, 31, 34, 19, 18, 34, 12, 19, 18, 34, 19, 30, 32, 12, 31, 34, 17, 33, 31, 16, 21, 34, 30, 15, 12, 22, 33, 16, 34, 20, 28, 25, 16, 31, 34, 8, 22, 16, 16, 18, 34, 12, 20, 7, 14, 31, 12, 23, 34, 11, 20, 32, 12, 31, 31, 16, 21, 34, 17, 16, 34, 32, 20, 18, 34, 28, 12, 31, 8, 34, 7, 33, 34, 11, 32, 26, 33, 16, 16, 21, 35, 34, 17, 22, 32, 16, 30, 33, 34, 32, 31, 27, 34, 7, 21, 34, 7, 32, 17, 14, 18, 34, 16, 31, 12, 32, 19, 16, 21, 35, 34, 7, 32, 31, 34, 17, 12, 19, 11, 34, 13, 11, 8, 34, 16, 31, 12, 32, 19, 16, 21, 34, 32, 19, 34, 13, 11, 8, 34, 12, 32, 19, 34, 22, 14, 12, 32, 33, 34, 12, 32, 19, 34, 7, 12, 31, 34, 11, 19, 7, 34, 19, 17, 19, 34, 32, 16, 31, 16, 16, 18, 35, 34, 7, 22, 16, 34, 17, 16, 22, 12, 31, 34, 16, 31, 12, 32, 19, 16, 21, 34, 32, 19, 34, 13, 11, 8, 34, 12, 32, 19, 34, 22, 14, 12, 32, 33, 34, 12, 32, 19, 34, 7, 12, 31, 34, 11, 19, 7, 34, 19, 17, 19, 34, 32, 16, 31, 16, 16, 18, 35, 34, 7, 22, 16, 34, 17, 16, 22, 12, 31, 34, 14, 13, 31, 22, 12, 34, 7, 19, 34, 8, 12, 31, 12, 33, 34, 11, 20, 16, 21, 35, 34, 19, 32, 12, 30, 34, 12, 19, 17, 16, 17, 31, 34, 32, 12, 26, 31, 34, 30, 12, 31, 7, 34, 8, 11, 31, 34, 11, 8, 16, 33, 35, 34, 8, 25, 16, 31, 34, 11, 25, 33, 16, 30, 11, 34, 12, 8, 20, 25, 31, 12, 33, 34, 7, 32, 31, 34, 8, 24, 19, 25, 35, 34, 7, 19, 26, 16, 34, 32, 20, 32, 12, 33, 34, 13, 12, 31, 14, 12, 33, 34, 22, 32, 12, 8, 35, 34, 22, 31, 10, 34, 7, 19, 34, 16, 21, 34, 11, 20, 19, 14, 34, 8, 10, 31, 18, 34, 16, 31, 16, 14, 12, 34, 16, 31, 12, 32, 19, 16, 21, 34, 32, 19, 34, 13, 11, 8, 34, 12, 32, 19, 34, 22, 14, 12, 32, 33, 34, 12, 32, 19, 34, 7, 12, 31, 34, 11, 19, 7, 34, 19, 17, 19, 34, 32, 16, 31, 16, 16, 18, 35, 34, 7, 22, 16, 34, 17, 16, 22, 12, 31, 34, 16, 31, 12, 32, 19, 16, 21, 34, 32, 19, 34, 13, 11, 8, 34, 12, 32, 19, 34, 22, 14, 12, 32, 33, 34, 12, 32, 19, 34, 7, 12, 31, 34, 11, 19, 7, 34, 19, 17, 19, 34, 32, 16, 31, 16, 16, 18, 35, 34, 7, 22, 16, 34, 17, 16, 22, 12, 31, 34, 17, 16, 22, 12, 31, 1], [0, 7, 9, 7, 1]]\n",
      "אוויר הרים צלול כיין וריח אורנים נישא ברוח הערביים עם קול פעמונים ובתרדמת אילן ואבן, שבויה בחלומה העיר אשר בדד יושבת ובליבה חומה ירושלים של זהב ושל נחושת ושל אור הלא לכל שירייך, אני כינור ירושלים של זהב ושל נחושת ושל אור הלא לכל שירייך, אני כינור איכה יבשו בורות המים, כיכר השוק ריקה ואין פוקד את הר הבית בעיר העתיקה ובמערות אשר בסלע, מייללות רוחות ואין יורד אל ים המלח בדרך יריחו ירושלים של זהב ושל נחושת ושל אור הלא לכל שירייך, אני כינור ירושלים של זהב ושל נחושת ושל אור הלא לכל שירייך, אני כינור אך בבואי היום לשיר לך ולך לקשור כתרים קטונתי מצעיר בנייך ומאחרון המשוררים כי שמך צורב את השפתיים, כנשיקת שרף אם אשכחך ירושלים, אשר כולה זהב ירושלים של זהב ושל נחושת ושל אור הלא לכל שירייך, אני כינור ירושלים של זהב ושל נחושת ושל אור הלא לכל שירייך, אני כינור חזרנו אל בורות המים, לשוק ולכיכר שופר קורא בהר הבית, בעיר העתיקה ובמערות אשר בסלע, אלפי שמשות זורחות נשוב, נרד אל ים המלח בדרך יריחו ירושלים של זהב ושל נחושת ושל אור הלא לכל שירייך, אני כינור ירושלים של זהב ושל נחושת ושל אור הלא לכל שירייך, אני כינור כינור\n",
      "1013\n",
      "אגא\n",
      "3\n"
     ]
    }
   ],
   "source": [
    "from prep.processor import get_tokenizer\n",
    "from charactertokenizer import CharacterTokenizer\n",
    "from string import whitespace, punctuation\n",
    "from hebrew.chars import HEBREW_CHARS\n",
    "from transformers import WhisperFeatureExtractor\n",
    "# tokenizer = get_tokenizer()\n",
    "\n",
    "\n",
    "tokenizer = get_tokenizer()\n",
    "\n",
    "example = \"אוויר הרים צלול כיין וריח אורנים נישא ברוח הערביים עם קול פעמונים ובתרדמת אילן ואבן, שבויה בחלומה העיר אשר בדד יושבת ובליבה חומה ירושלים של זהב ושל נחושת ושל אור הלא לכל שירייך, אני כינור ירושלים של זהב ושל נחושת ושל אור הלא לכל שירייך, אני כינור איכה יבשו בורות המים, כיכר השוק ריקה ואין פוקד את הר הבית בעיר העתיקה ובמערות אשר בסלע, מייללות רוחות ואין יורד אל ים המלח בדרך יריחו ירושלים של זהב ושל נחושת ושל אור הלא לכל שירייך, אני כינור ירושלים של זהב ושל נחושת ושל אור הלא לכל שירייך, אני כינור אך בבואי היום לשיר לך ולך לקשור כתרים קטונתי מצעיר בנייך ומאחרון המשוררים כי שמך צורב את השפתיים, כנשיקת שרף אם אשכחך ירושלים, אשר כולה זהב ירושלים של זהב ושל נחושת ושל אור הלא לכל שירייך, אני כינור ירושלים של זהב ושל נחושת ושל אור הלא לכל שירייך, אני כינור חזרנו אל בורות המים, לשוק ולכיכר שופר קורא בהר הבית, בעיר העתיקה ובמערות אשר בסלע, אלפי שמשות זורחות נשוב, נרד אל ים המלח בדרך יריחו ירושלים של זהב ושל נחושת ושל אור הלא לכל שירייך, אני כינור ירושלים של זהב ושל נחושת ושל אור הלא לכל שירייך, אני כינור כינור\"\n",
    "example2 = \"אגא\"\n",
    "\n",
    "examples = [example, example2]\n",
    "\n",
    "tokens = tokenizer(examples)[\"input_ids\"]\n",
    "print(tokens)\n",
    "\n",
    "for token in tokens:\n",
    "    decode=tokenizer.decode(token, skip_special_tokens=True)\n",
    "    print(decode)\n",
    "    print(len(decode))"
   ]
  },
  {
   "cell_type": "code",
   "execution_count": null,
   "metadata": {},
   "outputs": [],
   "source": [
    "import torch\n",
    "\n",
    "def decode(encoding):\n",
    "    \"\"\"\n",
    "    normal decode function\n",
    "    \"\"\"\n",
    "    text = tokenizer.decode(encoding, skip_special_tokens=True)\n",
    "    return text"
   ]
  },
  {
   "cell_type": "code",
   "execution_count": null,
   "metadata": {},
   "outputs": [
    {
     "name": "stdout",
     "output_type": "stream",
     "text": [
      "2\n"
     ]
    }
   ],
   "source": [
    "print(decode([0,41]))"
   ]
  },
  {
   "cell_type": "markdown",
   "metadata": {},
   "source": [
    "--\n",
    "# LLM"
   ]
  },
  {
   "cell_type": "code",
   "execution_count": null,
   "metadata": {},
   "outputs": [
    {
     "name": "stderr",
     "output_type": "stream",
     "text": [
      "Some weights of BertModel were not initialized from the model checkpoint at onlplab/alephbert-base and are newly initialized: ['bert.pooler.dense.bias', 'bert.pooler.dense.weight']\n",
      "You should probably TRAIN this model on a down-stream task to be able to use it for predictions and inference.\n"
     ]
    },
    {
     "name": "stderr",
     "output_type": "stream",
     "text": [
      "Some weights of BertForTokenClassification were not initialized from the model checkpoint at onlplab/alephbert-base and are newly initialized: ['classifier.bias', 'classifier.weight']\n",
      "You should probably TRAIN this model on a down-stream task to be able to use it for predictions and inference.\n"
     ]
    },
    {
     "name": "stdout",
     "output_type": "stream",
     "text": [
      "\n",
      "\n",
      "\n",
      "[{'entity': 'LABEL_1', 'score': 0.71913487, 'index': 1, 'word': 'אני', 'start': 0, 'end': 3}, {'entity': 'LABEL_0', 'score': 0.520349, 'index': 2, 'word': 'מתלבט', 'start': 4, 'end': 9}, {'entity': 'LABEL_1', 'score': 0.56510997, 'index': 3, 'word': 'מה', 'start': 10, 'end': 12}, {'entity': 'LABEL_1', 'score': 0.73355114, 'index': 4, 'word': 'לאכול', 'start': 13, 'end': 18}, {'entity': 'LABEL_1', 'score': 0.6801301, 'index': 5, 'word': 'לארוחת', 'start': 19, 'end': 25}, {'entity': 'LABEL_1', 'score': 0.7803837, 'index': 6, 'word': 'צהריים', 'start': 26, 'end': 32}]\n"
     ]
    }
   ],
   "source": [
    "from transformers import BertModel, BertTokenizerFast, pipeline\n",
    "\n",
    "tokenizer = BertTokenizerFast.from_pretrained('onlplab/alephbert-base')\n",
    "model = BertModel.from_pretrained('onlplab/alephbert-base')\n",
    "\n",
    "sentiment_analysis = pipeline(\n",
    "    task=\"token-classification\",\n",
    "    model=\"onlplab/alephbert-base\",\n",
    "    tokenizer=\"onlplab/alephbert-base\",\n",
    ")\n",
    "\n",
    "print(\"\\n\\n\")\n",
    "print(sentiment_analysis('אני מתלבט מה לאכול לארוחת צהריים'))"
   ]
  },
  {
   "cell_type": "code",
   "execution_count": null,
   "metadata": {},
   "outputs": [
    {
     "name": "stdout",
     "output_type": "stream",
     "text": [
      "PretrainedFiles(lexicon='/home/zeus/.cache/torch/hub/torchaudio/decoder-assets/librispeech-4-gram/lexicon.txt', tokens='/home/zeus/.cache/torch/hub/torchaudio/decoder-assets/librispeech-4-gram/tokens.txt', lm='/home/zeus/.cache/torch/hub/torchaudio/decoder-assets/librispeech-4-gram/lm.bin')\n"
     ]
    },
    {
     "name": "stderr",
     "output_type": "stream",
     "text": [
      "/tmp/ipykernel_716738/4032573503.py:8: FutureWarning: You are using `torch.load` with `weights_only=False` (the current default value), which uses the default pickle module implicitly. It is possible to construct malicious pickle data which will execute arbitrary code during unpickling (See https://github.com/pytorch/pytorch/blob/main/SECURITY.md#untrusted-models for more details). In a future release, the default value for `weights_only` will be flipped to `True`. This limits the functions that could be executed during unpickling. Arbitrary objects will no longer be allowed to be loaded via this mode unless they are explicitly allowlisted by the user via `torch.serialization.add_safe_globals`. We recommend you start setting `weights_only=True` for any use case where you don't have full control of the loaded file. Please open an issue on GitHub for any issues related to this experimental feature.\n",
      "  model = torch.load('/home/zeus/.cache/torch/hub/torchaudio/decoder-assets/librispeech-4-gram/lm.bin')\n"
     ]
    },
    {
     "ename": "UnpicklingError",
     "evalue": "invalid load key, 'm'.",
     "output_type": "error",
     "traceback": [
      "\u001b[0;31m---------------------------------------------------------------------------\u001b[0m",
      "\u001b[0;31mUnpicklingError\u001b[0m                           Traceback (most recent call last)",
      "Cell \u001b[0;32mIn[33], line 8\u001b[0m\n\u001b[1;32m      4\u001b[0m files \u001b[38;5;241m=\u001b[39m download_pretrained_files(\u001b[38;5;124m\"\u001b[39m\u001b[38;5;124mlibrispeech-4-gram\u001b[39m\u001b[38;5;124m\"\u001b[39m)\n\u001b[1;32m      6\u001b[0m \u001b[38;5;28mprint\u001b[39m(files)\n\u001b[0;32m----> 8\u001b[0m model \u001b[38;5;241m=\u001b[39m \u001b[43mtorch\u001b[49m\u001b[38;5;241;43m.\u001b[39;49m\u001b[43mload\u001b[49m\u001b[43m(\u001b[49m\u001b[38;5;124;43m'\u001b[39;49m\u001b[38;5;124;43m/home/zeus/.cache/torch/hub/torchaudio/decoder-assets/librispeech-4-gram/lm.bin\u001b[39;49m\u001b[38;5;124;43m'\u001b[39;49m\u001b[43m)\u001b[49m\n",
      "File \u001b[0;32m/home/zeus/miniconda3/envs/cloudspace/lib/python3.10/site-packages/torch/serialization.py:1114\u001b[0m, in \u001b[0;36mload\u001b[0;34m(f, map_location, pickle_module, weights_only, mmap, **pickle_load_args)\u001b[0m\n\u001b[1;32m   1112\u001b[0m     \u001b[38;5;28;01mexcept\u001b[39;00m \u001b[38;5;167;01mRuntimeError\u001b[39;00m \u001b[38;5;28;01mas\u001b[39;00m e:\n\u001b[1;32m   1113\u001b[0m         \u001b[38;5;28;01mraise\u001b[39;00m pickle\u001b[38;5;241m.\u001b[39mUnpicklingError(_get_wo_message(\u001b[38;5;28mstr\u001b[39m(e))) \u001b[38;5;28;01mfrom\u001b[39;00m \u001b[38;5;28;01mNone\u001b[39;00m\n\u001b[0;32m-> 1114\u001b[0m \u001b[38;5;28;01mreturn\u001b[39;00m \u001b[43m_legacy_load\u001b[49m\u001b[43m(\u001b[49m\n\u001b[1;32m   1115\u001b[0m \u001b[43m    \u001b[49m\u001b[43mopened_file\u001b[49m\u001b[43m,\u001b[49m\u001b[43m \u001b[49m\u001b[43mmap_location\u001b[49m\u001b[43m,\u001b[49m\u001b[43m \u001b[49m\u001b[43mpickle_module\u001b[49m\u001b[43m,\u001b[49m\u001b[43m \u001b[49m\u001b[38;5;241;43m*\u001b[39;49m\u001b[38;5;241;43m*\u001b[39;49m\u001b[43mpickle_load_args\u001b[49m\n\u001b[1;32m   1116\u001b[0m \u001b[43m\u001b[49m\u001b[43m)\u001b[49m\n",
      "File \u001b[0;32m/home/zeus/miniconda3/envs/cloudspace/lib/python3.10/site-packages/torch/serialization.py:1338\u001b[0m, in \u001b[0;36m_legacy_load\u001b[0;34m(f, map_location, pickle_module, **pickle_load_args)\u001b[0m\n\u001b[1;32m   1332\u001b[0m \u001b[38;5;28;01mif\u001b[39;00m \u001b[38;5;129;01mnot\u001b[39;00m \u001b[38;5;28mhasattr\u001b[39m(f, \u001b[38;5;124m'\u001b[39m\u001b[38;5;124mreadinto\u001b[39m\u001b[38;5;124m'\u001b[39m) \u001b[38;5;129;01mand\u001b[39;00m (\u001b[38;5;241m3\u001b[39m, \u001b[38;5;241m8\u001b[39m, \u001b[38;5;241m0\u001b[39m) \u001b[38;5;241m<\u001b[39m\u001b[38;5;241m=\u001b[39m sys\u001b[38;5;241m.\u001b[39mversion_info \u001b[38;5;241m<\u001b[39m (\u001b[38;5;241m3\u001b[39m, \u001b[38;5;241m8\u001b[39m, \u001b[38;5;241m2\u001b[39m):\n\u001b[1;32m   1333\u001b[0m     \u001b[38;5;28;01mraise\u001b[39;00m \u001b[38;5;167;01mRuntimeError\u001b[39;00m(\n\u001b[1;32m   1334\u001b[0m         \u001b[38;5;124m\"\u001b[39m\u001b[38;5;124mtorch.load does not work with file-like objects that do not implement readinto on Python 3.8.0 and 3.8.1. \u001b[39m\u001b[38;5;124m\"\u001b[39m\n\u001b[1;32m   1335\u001b[0m         \u001b[38;5;124mf\u001b[39m\u001b[38;5;124m'\u001b[39m\u001b[38;5;124mReceived object of type \u001b[39m\u001b[38;5;124m\"\u001b[39m\u001b[38;5;132;01m{\u001b[39;00m\u001b[38;5;28mtype\u001b[39m(f)\u001b[38;5;132;01m}\u001b[39;00m\u001b[38;5;124m\"\u001b[39m\u001b[38;5;124m. Please update to Python 3.8.2 or newer to restore this \u001b[39m\u001b[38;5;124m'\u001b[39m\n\u001b[1;32m   1336\u001b[0m         \u001b[38;5;124m\"\u001b[39m\u001b[38;5;124mfunctionality.\u001b[39m\u001b[38;5;124m\"\u001b[39m)\n\u001b[0;32m-> 1338\u001b[0m magic_number \u001b[38;5;241m=\u001b[39m \u001b[43mpickle_module\u001b[49m\u001b[38;5;241;43m.\u001b[39;49m\u001b[43mload\u001b[49m\u001b[43m(\u001b[49m\u001b[43mf\u001b[49m\u001b[43m,\u001b[49m\u001b[43m \u001b[49m\u001b[38;5;241;43m*\u001b[39;49m\u001b[38;5;241;43m*\u001b[39;49m\u001b[43mpickle_load_args\u001b[49m\u001b[43m)\u001b[49m\n\u001b[1;32m   1339\u001b[0m \u001b[38;5;28;01mif\u001b[39;00m magic_number \u001b[38;5;241m!=\u001b[39m MAGIC_NUMBER:\n\u001b[1;32m   1340\u001b[0m     \u001b[38;5;28;01mraise\u001b[39;00m \u001b[38;5;167;01mRuntimeError\u001b[39;00m(\u001b[38;5;124m\"\u001b[39m\u001b[38;5;124mInvalid magic number; corrupt file?\u001b[39m\u001b[38;5;124m\"\u001b[39m)\n",
      "\u001b[0;31mUnpicklingError\u001b[0m: invalid load key, 'm'."
     ]
    }
   ],
   "source": [
    "from torchaudio.models.decoder import download_pretrained_files\n",
    "import torch\n",
    "\n",
    "files = download_pretrained_files(\"librispeech-4-gram\")\n",
    "\n",
    "print(files)\n",
    "\n",
    "model = torch.load('/home/zeus/.cache/torch/hub/torchaudio/decoder-assets/librispeech-4-gram/lm.bin')"
   ]
  }
 ],
 "metadata": {
  "language_info": {
   "name": "python"
  }
 },
 "nbformat": 4,
 "nbformat_minor": 2
}
